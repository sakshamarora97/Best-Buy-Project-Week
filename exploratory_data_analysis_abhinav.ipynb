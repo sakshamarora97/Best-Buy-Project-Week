{
 "cells": [
  {
   "cell_type": "code",
   "execution_count": 26,
   "id": "709cde88",
   "metadata": {},
   "outputs": [],
   "source": [
    "import pandas as pd\n",
    "import numpy as np\n",
    "import matplotlib.pyplot as plt\n",
    "#Heirarchy --- seasonality when sku level signal weak"
   ]
  },
  {
   "cell_type": "code",
   "execution_count": 13,
   "id": "9f377a74",
   "metadata": {},
   "outputs": [],
   "source": [
    "df_raw = pd.read_excel(\"Hackathon Data.xlsx\")"
   ]
  },
  {
   "cell_type": "code",
   "execution_count": 15,
   "id": "b97f24b6",
   "metadata": {},
   "outputs": [
    {
     "data": {
      "text/plain": [
       "575"
      ]
     },
     "execution_count": 15,
     "metadata": {},
     "output_type": "execute_result"
    }
   ],
   "source": [
    "df_raw[\"Encoded_SKU_ID\"].nunique()"
   ]
  },
  {
   "cell_type": "code",
   "execution_count": 16,
   "id": "c91fe89b",
   "metadata": {},
   "outputs": [
    {
     "data": {
      "text/html": [
       "<div>\n",
       "<style scoped>\n",
       "    .dataframe tbody tr th:only-of-type {\n",
       "        vertical-align: middle;\n",
       "    }\n",
       "\n",
       "    .dataframe tbody tr th {\n",
       "        vertical-align: top;\n",
       "    }\n",
       "\n",
       "    .dataframe thead th {\n",
       "        text-align: right;\n",
       "    }\n",
       "</style>\n",
       "<table border=\"1\" class=\"dataframe\">\n",
       "  <thead>\n",
       "    <tr style=\"text-align: right;\">\n",
       "      <th></th>\n",
       "      <th>Encoded_SKU_ID</th>\n",
       "      <th>SALES_DATE</th>\n",
       "      <th>SUBCLASS_NAME</th>\n",
       "      <th>CLASS_NAME</th>\n",
       "      <th>ML_NAME</th>\n",
       "      <th>CATEGORY_NAME</th>\n",
       "      <th>RETAIL_PRICE</th>\n",
       "      <th>PROMO_PRICE</th>\n",
       "      <th>COMPETITOR_PRICE</th>\n",
       "      <th>Inventory</th>\n",
       "      <th>DAILY_UNITS</th>\n",
       "    </tr>\n",
       "  </thead>\n",
       "  <tbody>\n",
       "    <tr>\n",
       "      <th>0</th>\n",
       "      <td>1</td>\n",
       "      <td>2017-09-28</td>\n",
       "      <td>MISC CAMERA ACCES</td>\n",
       "      <td>DIGITAL CAMERA ACCY</td>\n",
       "      <td>ML - DI Accessories</td>\n",
       "      <td>VP - Digital Imaging</td>\n",
       "      <td>89.99</td>\n",
       "      <td>?</td>\n",
       "      <td>?</td>\n",
       "      <td>Fully-Stocked</td>\n",
       "      <td>1</td>\n",
       "    </tr>\n",
       "    <tr>\n",
       "      <th>1</th>\n",
       "      <td>2</td>\n",
       "      <td>2017-11-24</td>\n",
       "      <td>CAMERA BATTERIES</td>\n",
       "      <td>DIGITAL CAMERA ACCY</td>\n",
       "      <td>ML - DI Accessories</td>\n",
       "      <td>VP - Digital Imaging</td>\n",
       "      <td>39.99</td>\n",
       "      <td>?</td>\n",
       "      <td>?</td>\n",
       "      <td>Fully-Stocked</td>\n",
       "      <td>18</td>\n",
       "    </tr>\n",
       "    <tr>\n",
       "      <th>2</th>\n",
       "      <td>3</td>\n",
       "      <td>2019-11-28</td>\n",
       "      <td>SO PARTS</td>\n",
       "      <td>MOBILE ACCESSORIES</td>\n",
       "      <td>ML - Connected Car</td>\n",
       "      <td>VP - Electrify &amp; Car</td>\n",
       "      <td>49.99</td>\n",
       "      <td>?</td>\n",
       "      <td>46.98</td>\n",
       "      <td>Constrained</td>\n",
       "      <td>7</td>\n",
       "    </tr>\n",
       "    <tr>\n",
       "      <th>3</th>\n",
       "      <td>4</td>\n",
       "      <td>2021-04-21</td>\n",
       "      <td>SO RANGEHOODS REG</td>\n",
       "      <td>KITCHEN VENTILATION</td>\n",
       "      <td>ML - Kitchen</td>\n",
       "      <td>VP - Major Appliances</td>\n",
       "      <td>549.99</td>\n",
       "      <td>?</td>\n",
       "      <td>498</td>\n",
       "      <td>Fully-Stocked</td>\n",
       "      <td>6</td>\n",
       "    </tr>\n",
       "    <tr>\n",
       "      <th>4</th>\n",
       "      <td>1</td>\n",
       "      <td>2018-10-27</td>\n",
       "      <td>MISC CAMERA ACCES</td>\n",
       "      <td>DIGITAL CAMERA ACCY</td>\n",
       "      <td>ML - DI Accessories</td>\n",
       "      <td>VP - Digital Imaging</td>\n",
       "      <td>89.99</td>\n",
       "      <td>?</td>\n",
       "      <td>?</td>\n",
       "      <td>Fully-Stocked</td>\n",
       "      <td>7</td>\n",
       "    </tr>\n",
       "  </tbody>\n",
       "</table>\n",
       "</div>"
      ],
      "text/plain": [
       "   Encoded_SKU_ID SALES_DATE      SUBCLASS_NAME           CLASS_NAME  \\\n",
       "0               1 2017-09-28  MISC CAMERA ACCES  DIGITAL CAMERA ACCY   \n",
       "1               2 2017-11-24   CAMERA BATTERIES  DIGITAL CAMERA ACCY   \n",
       "2               3 2019-11-28           SO PARTS   MOBILE ACCESSORIES   \n",
       "3               4 2021-04-21  SO RANGEHOODS REG  KITCHEN VENTILATION   \n",
       "4               1 2018-10-27  MISC CAMERA ACCES  DIGITAL CAMERA ACCY   \n",
       "\n",
       "               ML_NAME          CATEGORY_NAME  RETAIL_PRICE PROMO_PRICE  \\\n",
       "0  ML - DI Accessories   VP - Digital Imaging         89.99           ?   \n",
       "1  ML - DI Accessories   VP - Digital Imaging         39.99           ?   \n",
       "2   ML - Connected Car   VP - Electrify & Car         49.99           ?   \n",
       "3         ML - Kitchen  VP - Major Appliances        549.99           ?   \n",
       "4  ML - DI Accessories   VP - Digital Imaging         89.99           ?   \n",
       "\n",
       "  COMPETITOR_PRICE      Inventory  DAILY_UNITS  \n",
       "0                ?  Fully-Stocked            1  \n",
       "1                ?  Fully-Stocked           18  \n",
       "2            46.98    Constrained            7  \n",
       "3              498  Fully-Stocked            6  \n",
       "4                ?  Fully-Stocked            7  "
      ]
     },
     "execution_count": 16,
     "metadata": {},
     "output_type": "execute_result"
    }
   ],
   "source": [
    "df_raw.head()"
   ]
  },
  {
   "cell_type": "code",
   "execution_count": 18,
   "id": "6eff3d60",
   "metadata": {},
   "outputs": [
    {
     "data": {
      "text/plain": [
       "array(['Fully-Stocked', 'Constrained', 'Moderate', 'Out-of-Stock'],\n",
       "      dtype=object)"
      ]
     },
     "execution_count": 18,
     "metadata": {},
     "output_type": "execute_result"
    }
   ],
   "source": [
    "df_raw[\"Inventory\"].unique()"
   ]
  },
  {
   "cell_type": "code",
   "execution_count": 19,
   "id": "3c56702d",
   "metadata": {},
   "outputs": [
    {
     "data": {
      "text/plain": [
       "0"
      ]
     },
     "execution_count": 19,
     "metadata": {},
     "output_type": "execute_result"
    }
   ],
   "source": [
    "df_raw['Encoded_SKU_ID'].isna().sum()"
   ]
  },
  {
   "cell_type": "code",
   "execution_count": 93,
   "id": "56ed7e61",
   "metadata": {},
   "outputs": [],
   "source": [
    "df_subset=df_raw[['Encoded_SKU_ID','SALES_DATE','Inventory','DAILY_UNITS']]"
   ]
  },
  {
   "cell_type": "code",
   "execution_count": 94,
   "id": "99211fa8",
   "metadata": {},
   "outputs": [
    {
     "data": {
      "text/plain": [
       "0"
      ]
     },
     "execution_count": 94,
     "metadata": {},
     "output_type": "execute_result"
    }
   ],
   "source": [
    "df_subset['Inventory'].isna().sum()"
   ]
  },
  {
   "cell_type": "code",
   "execution_count": 95,
   "id": "43178872",
   "metadata": {},
   "outputs": [
    {
     "data": {
      "text/plain": [
       "0"
      ]
     },
     "execution_count": 95,
     "metadata": {},
     "output_type": "execute_result"
    }
   ],
   "source": [
    "df_subset['DAILY_UNITS'].isna().sum()"
   ]
  },
  {
   "cell_type": "code",
   "execution_count": 96,
   "id": "80587e8e",
   "metadata": {},
   "outputs": [
    {
     "data": {
      "text/plain": [
       "Fully-Stocked    692604\n",
       "Moderate          54825\n",
       "Constrained       52711\n",
       "Out-of-Stock      46492\n",
       "Name: Inventory, dtype: int64"
      ]
     },
     "execution_count": 96,
     "metadata": {},
     "output_type": "execute_result"
    }
   ],
   "source": [
    "df_subset['Inventory'].value_counts()"
   ]
  },
  {
   "cell_type": "code",
   "execution_count": 97,
   "id": "38af153e",
   "metadata": {},
   "outputs": [
    {
     "name": "stderr",
     "output_type": "stream",
     "text": [
      "/var/folders/79/wlb93l7n51xbb60lcrj4jbr00000gn/T/ipykernel_67142/4032244470.py:1: SettingWithCopyWarning: \n",
      "A value is trying to be set on a copy of a slice from a DataFrame.\n",
      "Try using .loc[row_indexer,col_indexer] = value instead\n",
      "\n",
      "See the caveats in the documentation: https://pandas.pydata.org/pandas-docs/stable/user_guide/indexing.html#returning-a-view-versus-a-copy\n",
      "  df_subset[\"sales_yr\"]=df_subset[\"SALES_DATE\"].dt.year\n",
      "/var/folders/79/wlb93l7n51xbb60lcrj4jbr00000gn/T/ipykernel_67142/4032244470.py:2: SettingWithCopyWarning: \n",
      "A value is trying to be set on a copy of a slice from a DataFrame.\n",
      "Try using .loc[row_indexer,col_indexer] = value instead\n",
      "\n",
      "See the caveats in the documentation: https://pandas.pydata.org/pandas-docs/stable/user_guide/indexing.html#returning-a-view-versus-a-copy\n",
      "  df_subset[\"sales_quarter\"]=df_subset[\"SALES_DATE\"].dt.quarter\n"
     ]
    }
   ],
   "source": [
    "df_subset[\"sales_yr\"]=df_subset[\"SALES_DATE\"].dt.year\n",
    "df_subset[\"sales_quarter\"]=df_subset[\"SALES_DATE\"].dt.quarter"
   ]
  },
  {
   "cell_type": "code",
   "execution_count": 98,
   "id": "6877895a",
   "metadata": {},
   "outputs": [],
   "source": [
    "def quarter(row):\n",
    "    return 'Q'+ str(row.sales_quarter)+'_'+str(row.sales_yr)"
   ]
  },
  {
   "cell_type": "code",
   "execution_count": 99,
   "id": "32e777cf",
   "metadata": {},
   "outputs": [
    {
     "name": "stderr",
     "output_type": "stream",
     "text": [
      "/var/folders/79/wlb93l7n51xbb60lcrj4jbr00000gn/T/ipykernel_67142/645980920.py:1: SettingWithCopyWarning: \n",
      "A value is trying to be set on a copy of a slice from a DataFrame.\n",
      "Try using .loc[row_indexer,col_indexer] = value instead\n",
      "\n",
      "See the caveats in the documentation: https://pandas.pydata.org/pandas-docs/stable/user_guide/indexing.html#returning-a-view-versus-a-copy\n",
      "  df_subset.loc[:,'quarter']=df_subset.apply(lambda x:quarter(x), axis=1)\n"
     ]
    }
   ],
   "source": [
    "df_subset.loc[:,'quarter']=df_subset.apply(lambda x:quarter(x), axis=1)"
   ]
  },
  {
   "cell_type": "code",
   "execution_count": 35,
   "id": "344d6204",
   "metadata": {},
   "outputs": [
    {
     "data": {
      "text/html": [
       "<div>\n",
       "<style scoped>\n",
       "    .dataframe tbody tr th:only-of-type {\n",
       "        vertical-align: middle;\n",
       "    }\n",
       "\n",
       "    .dataframe tbody tr th {\n",
       "        vertical-align: top;\n",
       "    }\n",
       "\n",
       "    .dataframe thead th {\n",
       "        text-align: right;\n",
       "    }\n",
       "</style>\n",
       "<table border=\"1\" class=\"dataframe\">\n",
       "  <thead>\n",
       "    <tr style=\"text-align: right;\">\n",
       "      <th></th>\n",
       "      <th>Encoded_SKU_ID</th>\n",
       "      <th>SALES_DATE</th>\n",
       "      <th>Inventory</th>\n",
       "      <th>DAILY_UNITS</th>\n",
       "      <th>sales_yr</th>\n",
       "      <th>sales_quarter</th>\n",
       "      <th>quarter</th>\n",
       "    </tr>\n",
       "  </thead>\n",
       "  <tbody>\n",
       "    <tr>\n",
       "      <th>0</th>\n",
       "      <td>1</td>\n",
       "      <td>2017-09-28</td>\n",
       "      <td>Fully-Stocked</td>\n",
       "      <td>1</td>\n",
       "      <td>2017</td>\n",
       "      <td>3</td>\n",
       "      <td>Q3_2017</td>\n",
       "    </tr>\n",
       "    <tr>\n",
       "      <th>1</th>\n",
       "      <td>2</td>\n",
       "      <td>2017-11-24</td>\n",
       "      <td>Fully-Stocked</td>\n",
       "      <td>18</td>\n",
       "      <td>2017</td>\n",
       "      <td>4</td>\n",
       "      <td>Q4_2017</td>\n",
       "    </tr>\n",
       "    <tr>\n",
       "      <th>2</th>\n",
       "      <td>3</td>\n",
       "      <td>2019-11-28</td>\n",
       "      <td>Constrained</td>\n",
       "      <td>7</td>\n",
       "      <td>2019</td>\n",
       "      <td>4</td>\n",
       "      <td>Q4_2019</td>\n",
       "    </tr>\n",
       "    <tr>\n",
       "      <th>3</th>\n",
       "      <td>4</td>\n",
       "      <td>2021-04-21</td>\n",
       "      <td>Fully-Stocked</td>\n",
       "      <td>6</td>\n",
       "      <td>2021</td>\n",
       "      <td>2</td>\n",
       "      <td>Q2_2021</td>\n",
       "    </tr>\n",
       "    <tr>\n",
       "      <th>4</th>\n",
       "      <td>1</td>\n",
       "      <td>2018-10-27</td>\n",
       "      <td>Fully-Stocked</td>\n",
       "      <td>7</td>\n",
       "      <td>2018</td>\n",
       "      <td>4</td>\n",
       "      <td>Q4_2018</td>\n",
       "    </tr>\n",
       "  </tbody>\n",
       "</table>\n",
       "</div>"
      ],
      "text/plain": [
       "   Encoded_SKU_ID SALES_DATE      Inventory  DAILY_UNITS  sales_yr  \\\n",
       "0               1 2017-09-28  Fully-Stocked            1      2017   \n",
       "1               2 2017-11-24  Fully-Stocked           18      2017   \n",
       "2               3 2019-11-28    Constrained            7      2019   \n",
       "3               4 2021-04-21  Fully-Stocked            6      2021   \n",
       "4               1 2018-10-27  Fully-Stocked            7      2018   \n",
       "\n",
       "   sales_quarter  quarter  \n",
       "0              3  Q3_2017  \n",
       "1              4  Q4_2017  \n",
       "2              4  Q4_2019  \n",
       "3              2  Q2_2021  \n",
       "4              4  Q4_2018  "
      ]
     },
     "execution_count": 35,
     "metadata": {},
     "output_type": "execute_result"
    }
   ],
   "source": [
    "df_subset.head()"
   ]
  },
  {
   "cell_type": "code",
   "execution_count": 36,
   "id": "d53e2069",
   "metadata": {},
   "outputs": [
    {
     "data": {
      "text/plain": [
       "Index(['Encoded_SKU_ID', 'SALES_DATE', 'Inventory', 'DAILY_UNITS', 'sales_yr',\n",
       "       'sales_quarter', 'quarter'],\n",
       "      dtype='object')"
      ]
     },
     "execution_count": 36,
     "metadata": {},
     "output_type": "execute_result"
    }
   ],
   "source": [
    "df_subset.columns"
   ]
  },
  {
   "cell_type": "code",
   "execution_count": 100,
   "id": "65fafc6f",
   "metadata": {},
   "outputs": [],
   "source": [
    "df_g1=df_subset.groupby([\"Encoded_SKU_ID\",\"quarter\"],as_index=False).\\\n",
    "agg(avg_quarterly_units_sold=('DAILY_UNITS','mean'),std_quarterly_units_sold=('DAILY_UNITS',lambda x: x.std(ddof=0)))"
   ]
  },
  {
   "cell_type": "code",
   "execution_count": 102,
   "id": "871023ee",
   "metadata": {},
   "outputs": [
    {
     "data": {
      "text/plain": [
       "Index(['Encoded_SKU_ID', 'quarter', 'avg_quarterly_units_sold',\n",
       "       'std_quarterly_units_sold'],\n",
       "      dtype='object')"
      ]
     },
     "execution_count": 102,
     "metadata": {},
     "output_type": "execute_result"
    }
   ],
   "source": [
    "df_g1.columns"
   ]
  },
  {
   "cell_type": "code",
   "execution_count": 103,
   "id": "d28105b0",
   "metadata": {},
   "outputs": [],
   "source": [
    "df_m1=df_subset.merge(df_g1,on=['Encoded_SKU_ID','quarter'],how=\"inner\")"
   ]
  },
  {
   "cell_type": "code",
   "execution_count": 104,
   "id": "b3b38ff9",
   "metadata": {},
   "outputs": [
    {
     "data": {
      "text/html": [
       "<div>\n",
       "<style scoped>\n",
       "    .dataframe tbody tr th:only-of-type {\n",
       "        vertical-align: middle;\n",
       "    }\n",
       "\n",
       "    .dataframe tbody tr th {\n",
       "        vertical-align: top;\n",
       "    }\n",
       "\n",
       "    .dataframe thead th {\n",
       "        text-align: right;\n",
       "    }\n",
       "</style>\n",
       "<table border=\"1\" class=\"dataframe\">\n",
       "  <thead>\n",
       "    <tr style=\"text-align: right;\">\n",
       "      <th></th>\n",
       "      <th>Encoded_SKU_ID</th>\n",
       "      <th>SALES_DATE</th>\n",
       "      <th>Inventory</th>\n",
       "      <th>DAILY_UNITS</th>\n",
       "      <th>sales_yr</th>\n",
       "      <th>sales_quarter</th>\n",
       "      <th>quarter</th>\n",
       "      <th>avg_quarterly_units_sold</th>\n",
       "      <th>std_quarterly_units_sold</th>\n",
       "    </tr>\n",
       "  </thead>\n",
       "  <tbody>\n",
       "    <tr>\n",
       "      <th>0</th>\n",
       "      <td>1</td>\n",
       "      <td>2017-09-28</td>\n",
       "      <td>Fully-Stocked</td>\n",
       "      <td>1</td>\n",
       "      <td>2017</td>\n",
       "      <td>3</td>\n",
       "      <td>Q3_2017</td>\n",
       "      <td>2.695652</td>\n",
       "      <td>1.64673</td>\n",
       "    </tr>\n",
       "    <tr>\n",
       "      <th>1</th>\n",
       "      <td>1</td>\n",
       "      <td>2017-08-27</td>\n",
       "      <td>Fully-Stocked</td>\n",
       "      <td>2</td>\n",
       "      <td>2017</td>\n",
       "      <td>3</td>\n",
       "      <td>Q3_2017</td>\n",
       "      <td>2.695652</td>\n",
       "      <td>1.64673</td>\n",
       "    </tr>\n",
       "    <tr>\n",
       "      <th>2</th>\n",
       "      <td>1</td>\n",
       "      <td>2017-07-21</td>\n",
       "      <td>Fully-Stocked</td>\n",
       "      <td>6</td>\n",
       "      <td>2017</td>\n",
       "      <td>3</td>\n",
       "      <td>Q3_2017</td>\n",
       "      <td>2.695652</td>\n",
       "      <td>1.64673</td>\n",
       "    </tr>\n",
       "    <tr>\n",
       "      <th>3</th>\n",
       "      <td>1</td>\n",
       "      <td>2017-07-14</td>\n",
       "      <td>Out-of-Stock</td>\n",
       "      <td>6</td>\n",
       "      <td>2017</td>\n",
       "      <td>3</td>\n",
       "      <td>Q3_2017</td>\n",
       "      <td>2.695652</td>\n",
       "      <td>1.64673</td>\n",
       "    </tr>\n",
       "    <tr>\n",
       "      <th>4</th>\n",
       "      <td>1</td>\n",
       "      <td>2017-07-05</td>\n",
       "      <td>Out-of-Stock</td>\n",
       "      <td>2</td>\n",
       "      <td>2017</td>\n",
       "      <td>3</td>\n",
       "      <td>Q3_2017</td>\n",
       "      <td>2.695652</td>\n",
       "      <td>1.64673</td>\n",
       "    </tr>\n",
       "    <tr>\n",
       "      <th>...</th>\n",
       "      <td>...</td>\n",
       "      <td>...</td>\n",
       "      <td>...</td>\n",
       "      <td>...</td>\n",
       "      <td>...</td>\n",
       "      <td>...</td>\n",
       "      <td>...</td>\n",
       "      <td>...</td>\n",
       "      <td>...</td>\n",
       "    </tr>\n",
       "    <tr>\n",
       "      <th>846627</th>\n",
       "      <td>163</td>\n",
       "      <td>2019-09-29</td>\n",
       "      <td>Out-of-Stock</td>\n",
       "      <td>0</td>\n",
       "      <td>2019</td>\n",
       "      <td>3</td>\n",
       "      <td>Q3_2019</td>\n",
       "      <td>0.000000</td>\n",
       "      <td>0.00000</td>\n",
       "    </tr>\n",
       "    <tr>\n",
       "      <th>846628</th>\n",
       "      <td>563</td>\n",
       "      <td>2019-03-31</td>\n",
       "      <td>Out-of-Stock</td>\n",
       "      <td>0</td>\n",
       "      <td>2019</td>\n",
       "      <td>1</td>\n",
       "      <td>Q1_2019</td>\n",
       "      <td>0.000000</td>\n",
       "      <td>0.00000</td>\n",
       "    </tr>\n",
       "    <tr>\n",
       "      <th>846629</th>\n",
       "      <td>157</td>\n",
       "      <td>2017-12-28</td>\n",
       "      <td>Constrained</td>\n",
       "      <td>32</td>\n",
       "      <td>2017</td>\n",
       "      <td>4</td>\n",
       "      <td>Q4_2017</td>\n",
       "      <td>20.500000</td>\n",
       "      <td>11.50000</td>\n",
       "    </tr>\n",
       "    <tr>\n",
       "      <th>846630</th>\n",
       "      <td>157</td>\n",
       "      <td>2017-12-30</td>\n",
       "      <td>Constrained</td>\n",
       "      <td>9</td>\n",
       "      <td>2017</td>\n",
       "      <td>4</td>\n",
       "      <td>Q4_2017</td>\n",
       "      <td>20.500000</td>\n",
       "      <td>11.50000</td>\n",
       "    </tr>\n",
       "    <tr>\n",
       "      <th>846631</th>\n",
       "      <td>331</td>\n",
       "      <td>2019-06-30</td>\n",
       "      <td>Out-of-Stock</td>\n",
       "      <td>0</td>\n",
       "      <td>2019</td>\n",
       "      <td>2</td>\n",
       "      <td>Q2_2019</td>\n",
       "      <td>0.000000</td>\n",
       "      <td>0.00000</td>\n",
       "    </tr>\n",
       "  </tbody>\n",
       "</table>\n",
       "<p>846632 rows × 9 columns</p>\n",
       "</div>"
      ],
      "text/plain": [
       "        Encoded_SKU_ID SALES_DATE      Inventory  DAILY_UNITS  sales_yr  \\\n",
       "0                    1 2017-09-28  Fully-Stocked            1      2017   \n",
       "1                    1 2017-08-27  Fully-Stocked            2      2017   \n",
       "2                    1 2017-07-21  Fully-Stocked            6      2017   \n",
       "3                    1 2017-07-14   Out-of-Stock            6      2017   \n",
       "4                    1 2017-07-05   Out-of-Stock            2      2017   \n",
       "...                ...        ...            ...          ...       ...   \n",
       "846627             163 2019-09-29   Out-of-Stock            0      2019   \n",
       "846628             563 2019-03-31   Out-of-Stock            0      2019   \n",
       "846629             157 2017-12-28    Constrained           32      2017   \n",
       "846630             157 2017-12-30    Constrained            9      2017   \n",
       "846631             331 2019-06-30   Out-of-Stock            0      2019   \n",
       "\n",
       "        sales_quarter  quarter  avg_quarterly_units_sold  \\\n",
       "0                   3  Q3_2017                  2.695652   \n",
       "1                   3  Q3_2017                  2.695652   \n",
       "2                   3  Q3_2017                  2.695652   \n",
       "3                   3  Q3_2017                  2.695652   \n",
       "4                   3  Q3_2017                  2.695652   \n",
       "...               ...      ...                       ...   \n",
       "846627              3  Q3_2019                  0.000000   \n",
       "846628              1  Q1_2019                  0.000000   \n",
       "846629              4  Q4_2017                 20.500000   \n",
       "846630              4  Q4_2017                 20.500000   \n",
       "846631              2  Q2_2019                  0.000000   \n",
       "\n",
       "        std_quarterly_units_sold  \n",
       "0                        1.64673  \n",
       "1                        1.64673  \n",
       "2                        1.64673  \n",
       "3                        1.64673  \n",
       "4                        1.64673  \n",
       "...                          ...  \n",
       "846627                   0.00000  \n",
       "846628                   0.00000  \n",
       "846629                  11.50000  \n",
       "846630                  11.50000  \n",
       "846631                   0.00000  \n",
       "\n",
       "[846632 rows x 9 columns]"
      ]
     },
     "execution_count": 104,
     "metadata": {},
     "output_type": "execute_result"
    }
   ],
   "source": [
    "df_m1"
   ]
  },
  {
   "cell_type": "code",
   "execution_count": 105,
   "id": "a786fa62",
   "metadata": {},
   "outputs": [],
   "source": [
    "def unusual_sales(row):\n",
    "    if(row[\"avg_quarterly_units_sold\"]-2*row[\"std_quarterly_units_sold\"]<=row[\"DAILY_UNITS\"]<=row[\"avg_quarterly_units_sold\"]+2*row[\"std_quarterly_units_sold\"]):\n",
    "            return \"Usual_sales\"\n",
    "    else:\n",
    "        return \"Unusual sales\""
   ]
  },
  {
   "cell_type": "code",
   "execution_count": 106,
   "id": "d664fe90",
   "metadata": {},
   "outputs": [],
   "source": [
    "df_m1[\"sales_status\"]=df_m1.apply(lambda x:unusual_sales(x),axis=1)"
   ]
  },
  {
   "cell_type": "code",
   "execution_count": 91,
   "id": "1f9e5dce",
   "metadata": {},
   "outputs": [
    {
     "data": {
      "text/plain": [
       "pandas.core.series.Series"
      ]
     },
     "execution_count": 91,
     "metadata": {},
     "output_type": "execute_result"
    }
   ],
   "source": [
    "df_m1[\"Sales_status\"].value_counts()"
   ]
  },
  {
   "cell_type": "code",
   "execution_count": 123,
   "id": "c09a8d15",
   "metadata": {},
   "outputs": [],
   "source": [
    "df_g2=df_m1.groupby([\"Encoded_SKU_ID\",\"sales_status\"],as_index=False).agg(Total_sales_sku=('DAILY_UNITS','sum'))"
   ]
  },
  {
   "cell_type": "code",
   "execution_count": 143,
   "id": "baa65137",
   "metadata": {},
   "outputs": [
    {
     "data": {
      "text/plain": [
       "0        4273\n",
       "1        4273\n",
       "2       23783\n",
       "3       23783\n",
       "4        4468\n",
       "        ...  \n",
       "1145     6645\n",
       "1146    19190\n",
       "1147    19190\n",
       "1148     6517\n",
       "1149     6517\n",
       "Name: Total_sales_sku, Length: 1150, dtype: int64"
      ]
     },
     "execution_count": 143,
     "metadata": {},
     "output_type": "execute_result"
    }
   ],
   "source": [
    "df_g2.groupby([\"Encoded_SKU_ID\"],as_index=False)[\"Total_sales_sku\"].transform(sum)[\"Total_sales_sku\"]"
   ]
  },
  {
   "cell_type": "code",
   "execution_count": 148,
   "id": "ca1bf5df",
   "metadata": {},
   "outputs": [],
   "source": [
    "df_g2['%']=((df_g2[\"Total_sales_sku\"])*100.0)/df_g2.groupby([\"Encoded_SKU_ID\"],as_index=False)[\"Total_sales_sku\"]\\\n",
    ".transform(sum)[\"Total_sales_sku\"]"
   ]
  },
  {
   "cell_type": "code",
   "execution_count": 165,
   "id": "626ac3b1",
   "metadata": {},
   "outputs": [],
   "source": [
    "th_1=df_g2[(df_g2[\"sales_status\"]==\"Unusual sales\")]['%'].describe().loc['25%']\n",
    "th_2=df_g2[(df_g2[\"sales_status\"]==\"Unusual sales\")]['%'].describe().loc['75%']"
   ]
  },
  {
   "cell_type": "code",
   "execution_count": 186,
   "id": "f631fc6a",
   "metadata": {},
   "outputs": [],
   "source": [
    "n1=df_g2[(df_g2['%'].gt(20)) & (df_g2['sales_status']==\"Unusual sales\")].shape[0]\n",
    "d1=df_g2['Encoded_SKU_ID'].nunique()"
   ]
  },
  {
   "cell_type": "code",
   "execution_count": 195,
   "id": "887e09ff",
   "metadata": {},
   "outputs": [
    {
     "name": "stdout",
     "output_type": "stream",
     "text": [
      "56 out of 575 i.e. 9.74% of SKU's have more than 20% of the daily units sold as unusual as per sales data \n"
     ]
    }
   ],
   "source": [
    "print(f\"{n1} out of {d1} i.e. {(n1/d1)*100:.2f}% of SKU's have more than 20% of the daily units sold as unusual as per sales data \")"
   ]
  },
  {
   "cell_type": "code",
   "execution_count": 193,
   "id": "e168f7e2",
   "metadata": {},
   "outputs": [
    {
     "data": {
      "text/plain": [
       "array([ 15,  27,  37,  60,  70,  75,  98, 100, 114, 139, 150, 152, 155,\n",
       "       160, 166, 169, 177, 242, 248, 254, 275, 278, 284, 292, 300, 314,\n",
       "       316, 318, 329, 355, 360, 361, 362, 365, 383, 403, 405, 407, 409,\n",
       "       428, 437, 443, 445, 455, 457, 471, 482, 483, 485, 503, 512, 517,\n",
       "       542, 548, 551, 575])"
      ]
     },
     "execution_count": 193,
     "metadata": {},
     "output_type": "execute_result"
    }
   ],
   "source": [
    "df_g2[(df_g2['%'].gt(20)) & (df_g2['sales_status']==\"Unusual sales\")][\"Encoded_SKU_ID\"].unique()"
   ]
  },
  {
   "cell_type": "code",
   "execution_count": null,
   "id": "a4ddab63",
   "metadata": {},
   "outputs": [],
   "source": []
  }
 ],
 "metadata": {
  "kernelspec": {
   "display_name": "Python 3 (ipykernel)",
   "language": "python",
   "name": "python3"
  },
  "language_info": {
   "codemirror_mode": {
    "name": "ipython",
    "version": 3
   },
   "file_extension": ".py",
   "mimetype": "text/x-python",
   "name": "python",
   "nbconvert_exporter": "python",
   "pygments_lexer": "ipython3",
   "version": "3.9.12"
  }
 },
 "nbformat": 4,
 "nbformat_minor": 5
}
