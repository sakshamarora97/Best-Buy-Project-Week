{
 "cells": [
  {
   "cell_type": "code",
   "execution_count": 201,
   "id": "7c05141b",
   "metadata": {},
   "outputs": [],
   "source": [
    "import pandas as pd\n",
    "import numpy as np\n",
    "import matplotlib.pyplot as plt\n",
    "import seaborn as sns\n",
    "#Heirarchy --- seasonality when sku level signal weak"
   ]
  },
  {
   "cell_type": "code",
   "execution_count": 13,
   "id": "4c6d53b9",
   "metadata": {},
   "outputs": [],
   "source": [
    "df_raw = pd.read_excel(\"Hackathon Data.xlsx\")"
   ]
  },
  {
   "cell_type": "code",
   "execution_count": 15,
   "id": "184ff02b",
   "metadata": {},
   "outputs": [
    {
     "data": {
      "text/plain": [
       "575"
      ]
     },
     "execution_count": 15,
     "metadata": {},
     "output_type": "execute_result"
    }
   ],
   "source": [
    "df_raw[\"Encoded_SKU_ID\"].nunique()"
   ]
  },
  {
   "cell_type": "code",
   "execution_count": 16,
   "id": "e1ba6be7",
   "metadata": {},
   "outputs": [
    {
     "data": {
      "text/html": [
       "<div>\n",
       "<style scoped>\n",
       "    .dataframe tbody tr th:only-of-type {\n",
       "        vertical-align: middle;\n",
       "    }\n",
       "\n",
       "    .dataframe tbody tr th {\n",
       "        vertical-align: top;\n",
       "    }\n",
       "\n",
       "    .dataframe thead th {\n",
       "        text-align: right;\n",
       "    }\n",
       "</style>\n",
       "<table border=\"1\" class=\"dataframe\">\n",
       "  <thead>\n",
       "    <tr style=\"text-align: right;\">\n",
       "      <th></th>\n",
       "      <th>Encoded_SKU_ID</th>\n",
       "      <th>SALES_DATE</th>\n",
       "      <th>SUBCLASS_NAME</th>\n",
       "      <th>CLASS_NAME</th>\n",
       "      <th>ML_NAME</th>\n",
       "      <th>CATEGORY_NAME</th>\n",
       "      <th>RETAIL_PRICE</th>\n",
       "      <th>PROMO_PRICE</th>\n",
       "      <th>COMPETITOR_PRICE</th>\n",
       "      <th>Inventory</th>\n",
       "      <th>DAILY_UNITS</th>\n",
       "    </tr>\n",
       "  </thead>\n",
       "  <tbody>\n",
       "    <tr>\n",
       "      <th>0</th>\n",
       "      <td>1</td>\n",
       "      <td>2017-09-28</td>\n",
       "      <td>MISC CAMERA ACCES</td>\n",
       "      <td>DIGITAL CAMERA ACCY</td>\n",
       "      <td>ML - DI Accessories</td>\n",
       "      <td>VP - Digital Imaging</td>\n",
       "      <td>89.99</td>\n",
       "      <td>?</td>\n",
       "      <td>?</td>\n",
       "      <td>Fully-Stocked</td>\n",
       "      <td>1</td>\n",
       "    </tr>\n",
       "    <tr>\n",
       "      <th>1</th>\n",
       "      <td>2</td>\n",
       "      <td>2017-11-24</td>\n",
       "      <td>CAMERA BATTERIES</td>\n",
       "      <td>DIGITAL CAMERA ACCY</td>\n",
       "      <td>ML - DI Accessories</td>\n",
       "      <td>VP - Digital Imaging</td>\n",
       "      <td>39.99</td>\n",
       "      <td>?</td>\n",
       "      <td>?</td>\n",
       "      <td>Fully-Stocked</td>\n",
       "      <td>18</td>\n",
       "    </tr>\n",
       "    <tr>\n",
       "      <th>2</th>\n",
       "      <td>3</td>\n",
       "      <td>2019-11-28</td>\n",
       "      <td>SO PARTS</td>\n",
       "      <td>MOBILE ACCESSORIES</td>\n",
       "      <td>ML - Connected Car</td>\n",
       "      <td>VP - Electrify &amp; Car</td>\n",
       "      <td>49.99</td>\n",
       "      <td>?</td>\n",
       "      <td>46.98</td>\n",
       "      <td>Constrained</td>\n",
       "      <td>7</td>\n",
       "    </tr>\n",
       "    <tr>\n",
       "      <th>3</th>\n",
       "      <td>4</td>\n",
       "      <td>2021-04-21</td>\n",
       "      <td>SO RANGEHOODS REG</td>\n",
       "      <td>KITCHEN VENTILATION</td>\n",
       "      <td>ML - Kitchen</td>\n",
       "      <td>VP - Major Appliances</td>\n",
       "      <td>549.99</td>\n",
       "      <td>?</td>\n",
       "      <td>498</td>\n",
       "      <td>Fully-Stocked</td>\n",
       "      <td>6</td>\n",
       "    </tr>\n",
       "    <tr>\n",
       "      <th>4</th>\n",
       "      <td>1</td>\n",
       "      <td>2018-10-27</td>\n",
       "      <td>MISC CAMERA ACCES</td>\n",
       "      <td>DIGITAL CAMERA ACCY</td>\n",
       "      <td>ML - DI Accessories</td>\n",
       "      <td>VP - Digital Imaging</td>\n",
       "      <td>89.99</td>\n",
       "      <td>?</td>\n",
       "      <td>?</td>\n",
       "      <td>Fully-Stocked</td>\n",
       "      <td>7</td>\n",
       "    </tr>\n",
       "  </tbody>\n",
       "</table>\n",
       "</div>"
      ],
      "text/plain": [
       "   Encoded_SKU_ID SALES_DATE      SUBCLASS_NAME           CLASS_NAME  \\\n",
       "0               1 2017-09-28  MISC CAMERA ACCES  DIGITAL CAMERA ACCY   \n",
       "1               2 2017-11-24   CAMERA BATTERIES  DIGITAL CAMERA ACCY   \n",
       "2               3 2019-11-28           SO PARTS   MOBILE ACCESSORIES   \n",
       "3               4 2021-04-21  SO RANGEHOODS REG  KITCHEN VENTILATION   \n",
       "4               1 2018-10-27  MISC CAMERA ACCES  DIGITAL CAMERA ACCY   \n",
       "\n",
       "               ML_NAME          CATEGORY_NAME  RETAIL_PRICE PROMO_PRICE  \\\n",
       "0  ML - DI Accessories   VP - Digital Imaging         89.99           ?   \n",
       "1  ML - DI Accessories   VP - Digital Imaging         39.99           ?   \n",
       "2   ML - Connected Car   VP - Electrify & Car         49.99           ?   \n",
       "3         ML - Kitchen  VP - Major Appliances        549.99           ?   \n",
       "4  ML - DI Accessories   VP - Digital Imaging         89.99           ?   \n",
       "\n",
       "  COMPETITOR_PRICE      Inventory  DAILY_UNITS  \n",
       "0                ?  Fully-Stocked            1  \n",
       "1                ?  Fully-Stocked           18  \n",
       "2            46.98    Constrained            7  \n",
       "3              498  Fully-Stocked            6  \n",
       "4                ?  Fully-Stocked            7  "
      ]
     },
     "execution_count": 16,
     "metadata": {},
     "output_type": "execute_result"
    }
   ],
   "source": [
    "df_raw.head()"
   ]
  },
  {
   "cell_type": "code",
   "execution_count": 18,
   "id": "26dd26e9",
   "metadata": {},
   "outputs": [
    {
     "data": {
      "text/plain": [
       "array(['Fully-Stocked', 'Constrained', 'Moderate', 'Out-of-Stock'],\n",
       "      dtype=object)"
      ]
     },
     "execution_count": 18,
     "metadata": {},
     "output_type": "execute_result"
    }
   ],
   "source": [
    "df_raw[\"Inventory\"].unique()"
   ]
  },
  {
   "cell_type": "code",
   "execution_count": 19,
   "id": "2b2f4bb2",
   "metadata": {},
   "outputs": [
    {
     "data": {
      "text/plain": [
       "0"
      ]
     },
     "execution_count": 19,
     "metadata": {},
     "output_type": "execute_result"
    }
   ],
   "source": [
    "df_raw['Encoded_SKU_ID'].isna().sum()"
   ]
  },
  {
   "cell_type": "code",
   "execution_count": 93,
   "id": "4609cb90",
   "metadata": {},
   "outputs": [],
   "source": [
    "df_subset=df_raw[['Encoded_SKU_ID','SALES_DATE','Inventory','DAILY_UNITS']]"
   ]
  },
  {
   "cell_type": "code",
   "execution_count": 94,
   "id": "1fc43c69",
   "metadata": {},
   "outputs": [
    {
     "data": {
      "text/plain": [
       "0"
      ]
     },
     "execution_count": 94,
     "metadata": {},
     "output_type": "execute_result"
    }
   ],
   "source": [
    "df_subset['Inventory'].isna().sum()"
   ]
  },
  {
   "cell_type": "code",
   "execution_count": 95,
   "id": "eef3162c",
   "metadata": {},
   "outputs": [
    {
     "data": {
      "text/plain": [
       "0"
      ]
     },
     "execution_count": 95,
     "metadata": {},
     "output_type": "execute_result"
    }
   ],
   "source": [
    "df_subset['DAILY_UNITS'].isna().sum()"
   ]
  },
  {
   "cell_type": "code",
   "execution_count": 96,
   "id": "44b5e0c9",
   "metadata": {},
   "outputs": [
    {
     "data": {
      "text/plain": [
       "Fully-Stocked    692604\n",
       "Moderate          54825\n",
       "Constrained       52711\n",
       "Out-of-Stock      46492\n",
       "Name: Inventory, dtype: int64"
      ]
     },
     "execution_count": 96,
     "metadata": {},
     "output_type": "execute_result"
    }
   ],
   "source": [
    "df_subset['Inventory'].value_counts()"
   ]
  },
  {
   "cell_type": "code",
   "execution_count": 97,
   "id": "cf7be2eb",
   "metadata": {},
   "outputs": [
    {
     "name": "stderr",
     "output_type": "stream",
     "text": [
      "/var/folders/79/wlb93l7n51xbb60lcrj4jbr00000gn/T/ipykernel_67142/4032244470.py:1: SettingWithCopyWarning: \n",
      "A value is trying to be set on a copy of a slice from a DataFrame.\n",
      "Try using .loc[row_indexer,col_indexer] = value instead\n",
      "\n",
      "See the caveats in the documentation: https://pandas.pydata.org/pandas-docs/stable/user_guide/indexing.html#returning-a-view-versus-a-copy\n",
      "  df_subset[\"sales_yr\"]=df_subset[\"SALES_DATE\"].dt.year\n",
      "/var/folders/79/wlb93l7n51xbb60lcrj4jbr00000gn/T/ipykernel_67142/4032244470.py:2: SettingWithCopyWarning: \n",
      "A value is trying to be set on a copy of a slice from a DataFrame.\n",
      "Try using .loc[row_indexer,col_indexer] = value instead\n",
      "\n",
      "See the caveats in the documentation: https://pandas.pydata.org/pandas-docs/stable/user_guide/indexing.html#returning-a-view-versus-a-copy\n",
      "  df_subset[\"sales_quarter\"]=df_subset[\"SALES_DATE\"].dt.quarter\n"
     ]
    }
   ],
   "source": [
    "df_subset[\"sales_yr\"]=df_subset[\"SALES_DATE\"].dt.year\n",
    "df_subset[\"sales_quarter\"]=df_subset[\"SALES_DATE\"].dt.quarter"
   ]
  },
  {
   "cell_type": "code",
   "execution_count": 98,
   "id": "e1ec15db",
   "metadata": {},
   "outputs": [],
   "source": [
    "def quarter(row):\n",
    "    return 'Q'+ str(row.sales_quarter)+'_'+str(row.sales_yr)"
   ]
  },
  {
   "cell_type": "code",
   "execution_count": 99,
   "id": "f156e979",
   "metadata": {},
   "outputs": [
    {
     "name": "stderr",
     "output_type": "stream",
     "text": [
      "/var/folders/79/wlb93l7n51xbb60lcrj4jbr00000gn/T/ipykernel_67142/645980920.py:1: SettingWithCopyWarning: \n",
      "A value is trying to be set on a copy of a slice from a DataFrame.\n",
      "Try using .loc[row_indexer,col_indexer] = value instead\n",
      "\n",
      "See the caveats in the documentation: https://pandas.pydata.org/pandas-docs/stable/user_guide/indexing.html#returning-a-view-versus-a-copy\n",
      "  df_subset.loc[:,'quarter']=df_subset.apply(lambda x:quarter(x), axis=1)\n"
     ]
    }
   ],
   "source": [
    "df_subset.loc[:,'quarter']=df_subset.apply(lambda x:quarter(x), axis=1)"
   ]
  },
  {
   "cell_type": "code",
   "execution_count": 35,
   "id": "9edfe6f0",
   "metadata": {},
   "outputs": [
    {
     "data": {
      "text/html": [
       "<div>\n",
       "<style scoped>\n",
       "    .dataframe tbody tr th:only-of-type {\n",
       "        vertical-align: middle;\n",
       "    }\n",
       "\n",
       "    .dataframe tbody tr th {\n",
       "        vertical-align: top;\n",
       "    }\n",
       "\n",
       "    .dataframe thead th {\n",
       "        text-align: right;\n",
       "    }\n",
       "</style>\n",
       "<table border=\"1\" class=\"dataframe\">\n",
       "  <thead>\n",
       "    <tr style=\"text-align: right;\">\n",
       "      <th></th>\n",
       "      <th>Encoded_SKU_ID</th>\n",
       "      <th>SALES_DATE</th>\n",
       "      <th>Inventory</th>\n",
       "      <th>DAILY_UNITS</th>\n",
       "      <th>sales_yr</th>\n",
       "      <th>sales_quarter</th>\n",
       "      <th>quarter</th>\n",
       "    </tr>\n",
       "  </thead>\n",
       "  <tbody>\n",
       "    <tr>\n",
       "      <th>0</th>\n",
       "      <td>1</td>\n",
       "      <td>2017-09-28</td>\n",
       "      <td>Fully-Stocked</td>\n",
       "      <td>1</td>\n",
       "      <td>2017</td>\n",
       "      <td>3</td>\n",
       "      <td>Q3_2017</td>\n",
       "    </tr>\n",
       "    <tr>\n",
       "      <th>1</th>\n",
       "      <td>2</td>\n",
       "      <td>2017-11-24</td>\n",
       "      <td>Fully-Stocked</td>\n",
       "      <td>18</td>\n",
       "      <td>2017</td>\n",
       "      <td>4</td>\n",
       "      <td>Q4_2017</td>\n",
       "    </tr>\n",
       "    <tr>\n",
       "      <th>2</th>\n",
       "      <td>3</td>\n",
       "      <td>2019-11-28</td>\n",
       "      <td>Constrained</td>\n",
       "      <td>7</td>\n",
       "      <td>2019</td>\n",
       "      <td>4</td>\n",
       "      <td>Q4_2019</td>\n",
       "    </tr>\n",
       "    <tr>\n",
       "      <th>3</th>\n",
       "      <td>4</td>\n",
       "      <td>2021-04-21</td>\n",
       "      <td>Fully-Stocked</td>\n",
       "      <td>6</td>\n",
       "      <td>2021</td>\n",
       "      <td>2</td>\n",
       "      <td>Q2_2021</td>\n",
       "    </tr>\n",
       "    <tr>\n",
       "      <th>4</th>\n",
       "      <td>1</td>\n",
       "      <td>2018-10-27</td>\n",
       "      <td>Fully-Stocked</td>\n",
       "      <td>7</td>\n",
       "      <td>2018</td>\n",
       "      <td>4</td>\n",
       "      <td>Q4_2018</td>\n",
       "    </tr>\n",
       "  </tbody>\n",
       "</table>\n",
       "</div>"
      ],
      "text/plain": [
       "   Encoded_SKU_ID SALES_DATE      Inventory  DAILY_UNITS  sales_yr  \\\n",
       "0               1 2017-09-28  Fully-Stocked            1      2017   \n",
       "1               2 2017-11-24  Fully-Stocked           18      2017   \n",
       "2               3 2019-11-28    Constrained            7      2019   \n",
       "3               4 2021-04-21  Fully-Stocked            6      2021   \n",
       "4               1 2018-10-27  Fully-Stocked            7      2018   \n",
       "\n",
       "   sales_quarter  quarter  \n",
       "0              3  Q3_2017  \n",
       "1              4  Q4_2017  \n",
       "2              4  Q4_2019  \n",
       "3              2  Q2_2021  \n",
       "4              4  Q4_2018  "
      ]
     },
     "execution_count": 35,
     "metadata": {},
     "output_type": "execute_result"
    }
   ],
   "source": [
    "df_subset.head()"
   ]
  },
  {
   "cell_type": "code",
   "execution_count": 36,
   "id": "0905bf3b",
   "metadata": {},
   "outputs": [
    {
     "data": {
      "text/plain": [
       "Index(['Encoded_SKU_ID', 'SALES_DATE', 'Inventory', 'DAILY_UNITS', 'sales_yr',\n",
       "       'sales_quarter', 'quarter'],\n",
       "      dtype='object')"
      ]
     },
     "execution_count": 36,
     "metadata": {},
     "output_type": "execute_result"
    }
   ],
   "source": [
    "df_subset.columns"
   ]
  },
  {
   "cell_type": "code",
   "execution_count": 100,
   "id": "8413cf83",
   "metadata": {},
   "outputs": [],
   "source": [
    "df_g1=df_subset.groupby([\"Encoded_SKU_ID\",\"quarter\"],as_index=False).\\\n",
    "agg(avg_quarterly_units_sold=('DAILY_UNITS','mean'),std_quarterly_units_sold=('DAILY_UNITS',lambda x: x.std(ddof=0)))"
   ]
  },
  {
   "cell_type": "code",
   "execution_count": 102,
   "id": "4298509b",
   "metadata": {},
   "outputs": [
    {
     "data": {
      "text/plain": [
       "Index(['Encoded_SKU_ID', 'quarter', 'avg_quarterly_units_sold',\n",
       "       'std_quarterly_units_sold'],\n",
       "      dtype='object')"
      ]
     },
     "execution_count": 102,
     "metadata": {},
     "output_type": "execute_result"
    }
   ],
   "source": [
    "df_g1.columns"
   ]
  },
  {
   "cell_type": "code",
   "execution_count": 103,
   "id": "bd8f1c53",
   "metadata": {},
   "outputs": [],
   "source": [
    "df_m1=df_subset.merge(df_g1,on=['Encoded_SKU_ID','quarter'],how=\"inner\")"
   ]
  },
  {
   "cell_type": "code",
   "execution_count": 104,
   "id": "0ca4ecee",
   "metadata": {},
   "outputs": [
    {
     "data": {
      "text/html": [
       "<div>\n",
       "<style scoped>\n",
       "    .dataframe tbody tr th:only-of-type {\n",
       "        vertical-align: middle;\n",
       "    }\n",
       "\n",
       "    .dataframe tbody tr th {\n",
       "        vertical-align: top;\n",
       "    }\n",
       "\n",
       "    .dataframe thead th {\n",
       "        text-align: right;\n",
       "    }\n",
       "</style>\n",
       "<table border=\"1\" class=\"dataframe\">\n",
       "  <thead>\n",
       "    <tr style=\"text-align: right;\">\n",
       "      <th></th>\n",
       "      <th>Encoded_SKU_ID</th>\n",
       "      <th>SALES_DATE</th>\n",
       "      <th>Inventory</th>\n",
       "      <th>DAILY_UNITS</th>\n",
       "      <th>sales_yr</th>\n",
       "      <th>sales_quarter</th>\n",
       "      <th>quarter</th>\n",
       "      <th>avg_quarterly_units_sold</th>\n",
       "      <th>std_quarterly_units_sold</th>\n",
       "    </tr>\n",
       "  </thead>\n",
       "  <tbody>\n",
       "    <tr>\n",
       "      <th>0</th>\n",
       "      <td>1</td>\n",
       "      <td>2017-09-28</td>\n",
       "      <td>Fully-Stocked</td>\n",
       "      <td>1</td>\n",
       "      <td>2017</td>\n",
       "      <td>3</td>\n",
       "      <td>Q3_2017</td>\n",
       "      <td>2.695652</td>\n",
       "      <td>1.64673</td>\n",
       "    </tr>\n",
       "    <tr>\n",
       "      <th>1</th>\n",
       "      <td>1</td>\n",
       "      <td>2017-08-27</td>\n",
       "      <td>Fully-Stocked</td>\n",
       "      <td>2</td>\n",
       "      <td>2017</td>\n",
       "      <td>3</td>\n",
       "      <td>Q3_2017</td>\n",
       "      <td>2.695652</td>\n",
       "      <td>1.64673</td>\n",
       "    </tr>\n",
       "    <tr>\n",
       "      <th>2</th>\n",
       "      <td>1</td>\n",
       "      <td>2017-07-21</td>\n",
       "      <td>Fully-Stocked</td>\n",
       "      <td>6</td>\n",
       "      <td>2017</td>\n",
       "      <td>3</td>\n",
       "      <td>Q3_2017</td>\n",
       "      <td>2.695652</td>\n",
       "      <td>1.64673</td>\n",
       "    </tr>\n",
       "    <tr>\n",
       "      <th>3</th>\n",
       "      <td>1</td>\n",
       "      <td>2017-07-14</td>\n",
       "      <td>Out-of-Stock</td>\n",
       "      <td>6</td>\n",
       "      <td>2017</td>\n",
       "      <td>3</td>\n",
       "      <td>Q3_2017</td>\n",
       "      <td>2.695652</td>\n",
       "      <td>1.64673</td>\n",
       "    </tr>\n",
       "    <tr>\n",
       "      <th>4</th>\n",
       "      <td>1</td>\n",
       "      <td>2017-07-05</td>\n",
       "      <td>Out-of-Stock</td>\n",
       "      <td>2</td>\n",
       "      <td>2017</td>\n",
       "      <td>3</td>\n",
       "      <td>Q3_2017</td>\n",
       "      <td>2.695652</td>\n",
       "      <td>1.64673</td>\n",
       "    </tr>\n",
       "    <tr>\n",
       "      <th>...</th>\n",
       "      <td>...</td>\n",
       "      <td>...</td>\n",
       "      <td>...</td>\n",
       "      <td>...</td>\n",
       "      <td>...</td>\n",
       "      <td>...</td>\n",
       "      <td>...</td>\n",
       "      <td>...</td>\n",
       "      <td>...</td>\n",
       "    </tr>\n",
       "    <tr>\n",
       "      <th>846627</th>\n",
       "      <td>163</td>\n",
       "      <td>2019-09-29</td>\n",
       "      <td>Out-of-Stock</td>\n",
       "      <td>0</td>\n",
       "      <td>2019</td>\n",
       "      <td>3</td>\n",
       "      <td>Q3_2019</td>\n",
       "      <td>0.000000</td>\n",
       "      <td>0.00000</td>\n",
       "    </tr>\n",
       "    <tr>\n",
       "      <th>846628</th>\n",
       "      <td>563</td>\n",
       "      <td>2019-03-31</td>\n",
       "      <td>Out-of-Stock</td>\n",
       "      <td>0</td>\n",
       "      <td>2019</td>\n",
       "      <td>1</td>\n",
       "      <td>Q1_2019</td>\n",
       "      <td>0.000000</td>\n",
       "      <td>0.00000</td>\n",
       "    </tr>\n",
       "    <tr>\n",
       "      <th>846629</th>\n",
       "      <td>157</td>\n",
       "      <td>2017-12-28</td>\n",
       "      <td>Constrained</td>\n",
       "      <td>32</td>\n",
       "      <td>2017</td>\n",
       "      <td>4</td>\n",
       "      <td>Q4_2017</td>\n",
       "      <td>20.500000</td>\n",
       "      <td>11.50000</td>\n",
       "    </tr>\n",
       "    <tr>\n",
       "      <th>846630</th>\n",
       "      <td>157</td>\n",
       "      <td>2017-12-30</td>\n",
       "      <td>Constrained</td>\n",
       "      <td>9</td>\n",
       "      <td>2017</td>\n",
       "      <td>4</td>\n",
       "      <td>Q4_2017</td>\n",
       "      <td>20.500000</td>\n",
       "      <td>11.50000</td>\n",
       "    </tr>\n",
       "    <tr>\n",
       "      <th>846631</th>\n",
       "      <td>331</td>\n",
       "      <td>2019-06-30</td>\n",
       "      <td>Out-of-Stock</td>\n",
       "      <td>0</td>\n",
       "      <td>2019</td>\n",
       "      <td>2</td>\n",
       "      <td>Q2_2019</td>\n",
       "      <td>0.000000</td>\n",
       "      <td>0.00000</td>\n",
       "    </tr>\n",
       "  </tbody>\n",
       "</table>\n",
       "<p>846632 rows × 9 columns</p>\n",
       "</div>"
      ],
      "text/plain": [
       "        Encoded_SKU_ID SALES_DATE      Inventory  DAILY_UNITS  sales_yr  \\\n",
       "0                    1 2017-09-28  Fully-Stocked            1      2017   \n",
       "1                    1 2017-08-27  Fully-Stocked            2      2017   \n",
       "2                    1 2017-07-21  Fully-Stocked            6      2017   \n",
       "3                    1 2017-07-14   Out-of-Stock            6      2017   \n",
       "4                    1 2017-07-05   Out-of-Stock            2      2017   \n",
       "...                ...        ...            ...          ...       ...   \n",
       "846627             163 2019-09-29   Out-of-Stock            0      2019   \n",
       "846628             563 2019-03-31   Out-of-Stock            0      2019   \n",
       "846629             157 2017-12-28    Constrained           32      2017   \n",
       "846630             157 2017-12-30    Constrained            9      2017   \n",
       "846631             331 2019-06-30   Out-of-Stock            0      2019   \n",
       "\n",
       "        sales_quarter  quarter  avg_quarterly_units_sold  \\\n",
       "0                   3  Q3_2017                  2.695652   \n",
       "1                   3  Q3_2017                  2.695652   \n",
       "2                   3  Q3_2017                  2.695652   \n",
       "3                   3  Q3_2017                  2.695652   \n",
       "4                   3  Q3_2017                  2.695652   \n",
       "...               ...      ...                       ...   \n",
       "846627              3  Q3_2019                  0.000000   \n",
       "846628              1  Q1_2019                  0.000000   \n",
       "846629              4  Q4_2017                 20.500000   \n",
       "846630              4  Q4_2017                 20.500000   \n",
       "846631              2  Q2_2019                  0.000000   \n",
       "\n",
       "        std_quarterly_units_sold  \n",
       "0                        1.64673  \n",
       "1                        1.64673  \n",
       "2                        1.64673  \n",
       "3                        1.64673  \n",
       "4                        1.64673  \n",
       "...                          ...  \n",
       "846627                   0.00000  \n",
       "846628                   0.00000  \n",
       "846629                  11.50000  \n",
       "846630                  11.50000  \n",
       "846631                   0.00000  \n",
       "\n",
       "[846632 rows x 9 columns]"
      ]
     },
     "execution_count": 104,
     "metadata": {},
     "output_type": "execute_result"
    }
   ],
   "source": [
    "df_m1"
   ]
  },
  {
   "cell_type": "code",
   "execution_count": 105,
   "id": "550c7035",
   "metadata": {},
   "outputs": [],
   "source": [
    "def unusual_sales(row):\n",
    "    if(row[\"avg_quarterly_units_sold\"]-2*row[\"std_quarterly_units_sold\"]<=row[\"DAILY_UNITS\"]<=row[\"avg_quarterly_units_sold\"]+2*row[\"std_quarterly_units_sold\"]):\n",
    "            return \"Usual_sales\"\n",
    "    else:\n",
    "        return \"Unusual sales\""
   ]
  },
  {
   "cell_type": "code",
   "execution_count": 106,
   "id": "9f204fbd",
   "metadata": {},
   "outputs": [],
   "source": [
    "df_m1[\"sales_status\"]=df_m1.apply(lambda x:unusual_sales(x),axis=1)"
   ]
  },
  {
   "cell_type": "code",
   "execution_count": 91,
   "id": "8b3821d5",
   "metadata": {},
   "outputs": [
    {
     "data": {
      "text/plain": [
       "pandas.core.series.Series"
      ]
     },
     "execution_count": 91,
     "metadata": {},
     "output_type": "execute_result"
    }
   ],
   "source": [
    "df_m1[\"Sales_status\"].value_counts()"
   ]
  },
  {
   "cell_type": "code",
   "execution_count": 123,
   "id": "bc6665eb",
   "metadata": {},
   "outputs": [],
   "source": [
    "df_g2=df_m1.groupby([\"Encoded_SKU_ID\",\"sales_status\"],as_index=False).agg(Total_sales_sku=('DAILY_UNITS','sum'))"
   ]
  },
  {
   "cell_type": "code",
   "execution_count": 143,
   "id": "b02ac7b0",
   "metadata": {},
   "outputs": [
    {
     "data": {
      "text/plain": [
       "0        4273\n",
       "1        4273\n",
       "2       23783\n",
       "3       23783\n",
       "4        4468\n",
       "        ...  \n",
       "1145     6645\n",
       "1146    19190\n",
       "1147    19190\n",
       "1148     6517\n",
       "1149     6517\n",
       "Name: Total_sales_sku, Length: 1150, dtype: int64"
      ]
     },
     "execution_count": 143,
     "metadata": {},
     "output_type": "execute_result"
    }
   ],
   "source": [
    "df_g2.groupby([\"Encoded_SKU_ID\"],as_index=False)[\"Total_sales_sku\"].transform(sum)[\"Total_sales_sku\"]"
   ]
  },
  {
   "cell_type": "code",
   "execution_count": 148,
   "id": "ba96845b",
   "metadata": {},
   "outputs": [],
   "source": [
    "df_g2['%']=((df_g2[\"Total_sales_sku\"])*100.0)/df_g2.groupby([\"Encoded_SKU_ID\"],as_index=False)[\"Total_sales_sku\"]\\\n",
    ".transform(sum)[\"Total_sales_sku\"]"
   ]
  },
  {
   "cell_type": "code",
   "execution_count": 165,
   "id": "3a675cc4",
   "metadata": {},
   "outputs": [],
   "source": [
    "th_1=df_g2[(df_g2[\"sales_status\"]==\"Unusual sales\")]['%'].describe().loc['25%']\n",
    "th_2=df_g2[(df_g2[\"sales_status\"]==\"Unusual sales\")]['%'].describe().loc['75%']"
   ]
  },
  {
   "cell_type": "code",
   "execution_count": 186,
   "id": "b2dded86",
   "metadata": {},
   "outputs": [],
   "source": [
    "n1=df_g2[(df_g2['%'].gt(20)) & (df_g2['sales_status']==\"Unusual sales\")].shape[0]\n",
    "d1=df_g2['Encoded_SKU_ID'].nunique()"
   ]
  },
  {
   "cell_type": "code",
   "execution_count": 195,
   "id": "c6bf3076",
   "metadata": {},
   "outputs": [
    {
     "name": "stdout",
     "output_type": "stream",
     "text": [
      "56 out of 575 i.e. 9.74% of SKU's have more than 20% of the daily units sold as unusual as per sales data \n"
     ]
    }
   ],
   "source": [
    "print(f\"{n1} out of {d1} i.e. {(n1/d1)*100:.2f}% of SKU's have more than 20% of the daily units sold as unusual as per sales data \")"
   ]
  },
  {
   "cell_type": "code",
   "execution_count": 193,
   "id": "1c7c4594",
   "metadata": {},
   "outputs": [
    {
     "data": {
      "text/plain": [
       "array([ 15,  27,  37,  60,  70,  75,  98, 100, 114, 139, 150, 152, 155,\n",
       "       160, 166, 169, 177, 242, 248, 254, 275, 278, 284, 292, 300, 314,\n",
       "       316, 318, 329, 355, 360, 361, 362, 365, 383, 403, 405, 407, 409,\n",
       "       428, 437, 443, 445, 455, 457, 471, 482, 483, 485, 503, 512, 517,\n",
       "       542, 548, 551, 575])"
      ]
     },
     "execution_count": 193,
     "metadata": {},
     "output_type": "execute_result"
    }
   ],
   "source": [
    "df_g2[(df_g2['%'].gt(20)) & (df_g2['sales_status']==\"Unusual sales\")][\"Encoded_SKU_ID\"].unique()"
   ]
  },
  {
   "cell_type": "code",
   "execution_count": 196,
   "id": "a7386929",
   "metadata": {},
   "outputs": [
    {
     "data": {
      "text/html": [
       "<div>\n",
       "<style scoped>\n",
       "    .dataframe tbody tr th:only-of-type {\n",
       "        vertical-align: middle;\n",
       "    }\n",
       "\n",
       "    .dataframe tbody tr th {\n",
       "        vertical-align: top;\n",
       "    }\n",
       "\n",
       "    .dataframe thead th {\n",
       "        text-align: right;\n",
       "    }\n",
       "</style>\n",
       "<table border=\"1\" class=\"dataframe\">\n",
       "  <thead>\n",
       "    <tr style=\"text-align: right;\">\n",
       "      <th></th>\n",
       "      <th>Encoded_SKU_ID</th>\n",
       "      <th>sales_status</th>\n",
       "      <th>Total_sales_sku</th>\n",
       "      <th>%</th>\n",
       "    </tr>\n",
       "  </thead>\n",
       "  <tbody>\n",
       "    <tr>\n",
       "      <th>0</th>\n",
       "      <td>1</td>\n",
       "      <td>Unusual sales</td>\n",
       "      <td>467</td>\n",
       "      <td>10.929090</td>\n",
       "    </tr>\n",
       "    <tr>\n",
       "      <th>1</th>\n",
       "      <td>1</td>\n",
       "      <td>Usual_sales</td>\n",
       "      <td>3806</td>\n",
       "      <td>89.070910</td>\n",
       "    </tr>\n",
       "    <tr>\n",
       "      <th>2</th>\n",
       "      <td>2</td>\n",
       "      <td>Unusual sales</td>\n",
       "      <td>1441</td>\n",
       "      <td>6.058950</td>\n",
       "    </tr>\n",
       "    <tr>\n",
       "      <th>3</th>\n",
       "      <td>2</td>\n",
       "      <td>Usual_sales</td>\n",
       "      <td>22342</td>\n",
       "      <td>93.941050</td>\n",
       "    </tr>\n",
       "    <tr>\n",
       "      <th>4</th>\n",
       "      <td>3</td>\n",
       "      <td>Unusual sales</td>\n",
       "      <td>591</td>\n",
       "      <td>13.227395</td>\n",
       "    </tr>\n",
       "    <tr>\n",
       "      <th>...</th>\n",
       "      <td>...</td>\n",
       "      <td>...</td>\n",
       "      <td>...</td>\n",
       "      <td>...</td>\n",
       "    </tr>\n",
       "    <tr>\n",
       "      <th>1145</th>\n",
       "      <td>573</td>\n",
       "      <td>Usual_sales</td>\n",
       "      <td>5729</td>\n",
       "      <td>86.215199</td>\n",
       "    </tr>\n",
       "    <tr>\n",
       "      <th>1146</th>\n",
       "      <td>574</td>\n",
       "      <td>Unusual sales</td>\n",
       "      <td>3087</td>\n",
       "      <td>16.086503</td>\n",
       "    </tr>\n",
       "    <tr>\n",
       "      <th>1147</th>\n",
       "      <td>574</td>\n",
       "      <td>Usual_sales</td>\n",
       "      <td>16103</td>\n",
       "      <td>83.913497</td>\n",
       "    </tr>\n",
       "    <tr>\n",
       "      <th>1148</th>\n",
       "      <td>575</td>\n",
       "      <td>Unusual sales</td>\n",
       "      <td>2005</td>\n",
       "      <td>30.765690</td>\n",
       "    </tr>\n",
       "    <tr>\n",
       "      <th>1149</th>\n",
       "      <td>575</td>\n",
       "      <td>Usual_sales</td>\n",
       "      <td>4512</td>\n",
       "      <td>69.234310</td>\n",
       "    </tr>\n",
       "  </tbody>\n",
       "</table>\n",
       "<p>1150 rows × 4 columns</p>\n",
       "</div>"
      ],
      "text/plain": [
       "      Encoded_SKU_ID   sales_status  Total_sales_sku          %\n",
       "0                  1  Unusual sales              467  10.929090\n",
       "1                  1    Usual_sales             3806  89.070910\n",
       "2                  2  Unusual sales             1441   6.058950\n",
       "3                  2    Usual_sales            22342  93.941050\n",
       "4                  3  Unusual sales              591  13.227395\n",
       "...              ...            ...              ...        ...\n",
       "1145             573    Usual_sales             5729  86.215199\n",
       "1146             574  Unusual sales             3087  16.086503\n",
       "1147             574    Usual_sales            16103  83.913497\n",
       "1148             575  Unusual sales             2005  30.765690\n",
       "1149             575    Usual_sales             4512  69.234310\n",
       "\n",
       "[1150 rows x 4 columns]"
      ]
     },
     "execution_count": 196,
     "metadata": {},
     "output_type": "execute_result"
    }
   ],
   "source": [
    "df_g2"
   ]
  },
  {
   "cell_type": "code",
   "execution_count": 197,
   "id": "42df0bc7",
   "metadata": {},
   "outputs": [
    {
     "data": {
      "text/html": [
       "<div>\n",
       "<style scoped>\n",
       "    .dataframe tbody tr th:only-of-type {\n",
       "        vertical-align: middle;\n",
       "    }\n",
       "\n",
       "    .dataframe tbody tr th {\n",
       "        vertical-align: top;\n",
       "    }\n",
       "\n",
       "    .dataframe thead th {\n",
       "        text-align: right;\n",
       "    }\n",
       "</style>\n",
       "<table border=\"1\" class=\"dataframe\">\n",
       "  <thead>\n",
       "    <tr style=\"text-align: right;\">\n",
       "      <th></th>\n",
       "      <th>Encoded_SKU_ID</th>\n",
       "      <th>SALES_DATE</th>\n",
       "      <th>Inventory</th>\n",
       "      <th>DAILY_UNITS</th>\n",
       "      <th>sales_yr</th>\n",
       "      <th>sales_quarter</th>\n",
       "      <th>quarter</th>\n",
       "    </tr>\n",
       "  </thead>\n",
       "  <tbody>\n",
       "    <tr>\n",
       "      <th>0</th>\n",
       "      <td>1</td>\n",
       "      <td>2017-09-28</td>\n",
       "      <td>Fully-Stocked</td>\n",
       "      <td>1</td>\n",
       "      <td>2017</td>\n",
       "      <td>3</td>\n",
       "      <td>Q3_2017</td>\n",
       "    </tr>\n",
       "    <tr>\n",
       "      <th>1</th>\n",
       "      <td>2</td>\n",
       "      <td>2017-11-24</td>\n",
       "      <td>Fully-Stocked</td>\n",
       "      <td>18</td>\n",
       "      <td>2017</td>\n",
       "      <td>4</td>\n",
       "      <td>Q4_2017</td>\n",
       "    </tr>\n",
       "    <tr>\n",
       "      <th>2</th>\n",
       "      <td>3</td>\n",
       "      <td>2019-11-28</td>\n",
       "      <td>Constrained</td>\n",
       "      <td>7</td>\n",
       "      <td>2019</td>\n",
       "      <td>4</td>\n",
       "      <td>Q4_2019</td>\n",
       "    </tr>\n",
       "    <tr>\n",
       "      <th>3</th>\n",
       "      <td>4</td>\n",
       "      <td>2021-04-21</td>\n",
       "      <td>Fully-Stocked</td>\n",
       "      <td>6</td>\n",
       "      <td>2021</td>\n",
       "      <td>2</td>\n",
       "      <td>Q2_2021</td>\n",
       "    </tr>\n",
       "    <tr>\n",
       "      <th>4</th>\n",
       "      <td>1</td>\n",
       "      <td>2018-10-27</td>\n",
       "      <td>Fully-Stocked</td>\n",
       "      <td>7</td>\n",
       "      <td>2018</td>\n",
       "      <td>4</td>\n",
       "      <td>Q4_2018</td>\n",
       "    </tr>\n",
       "    <tr>\n",
       "      <th>...</th>\n",
       "      <td>...</td>\n",
       "      <td>...</td>\n",
       "      <td>...</td>\n",
       "      <td>...</td>\n",
       "      <td>...</td>\n",
       "      <td>...</td>\n",
       "      <td>...</td>\n",
       "    </tr>\n",
       "    <tr>\n",
       "      <th>846627</th>\n",
       "      <td>67</td>\n",
       "      <td>2020-11-16</td>\n",
       "      <td>Fully-Stocked</td>\n",
       "      <td>0</td>\n",
       "      <td>2020</td>\n",
       "      <td>4</td>\n",
       "      <td>Q4_2020</td>\n",
       "    </tr>\n",
       "    <tr>\n",
       "      <th>846628</th>\n",
       "      <td>482</td>\n",
       "      <td>2021-05-06</td>\n",
       "      <td>Fully-Stocked</td>\n",
       "      <td>0</td>\n",
       "      <td>2021</td>\n",
       "      <td>2</td>\n",
       "      <td>Q2_2021</td>\n",
       "    </tr>\n",
       "    <tr>\n",
       "      <th>846629</th>\n",
       "      <td>384</td>\n",
       "      <td>2021-09-25</td>\n",
       "      <td>Fully-Stocked</td>\n",
       "      <td>3</td>\n",
       "      <td>2021</td>\n",
       "      <td>3</td>\n",
       "      <td>Q3_2021</td>\n",
       "    </tr>\n",
       "    <tr>\n",
       "      <th>846630</th>\n",
       "      <td>113</td>\n",
       "      <td>2018-11-08</td>\n",
       "      <td>Fully-Stocked</td>\n",
       "      <td>0</td>\n",
       "      <td>2018</td>\n",
       "      <td>4</td>\n",
       "      <td>Q4_2018</td>\n",
       "    </tr>\n",
       "    <tr>\n",
       "      <th>846631</th>\n",
       "      <td>101</td>\n",
       "      <td>2021-03-14</td>\n",
       "      <td>Moderate</td>\n",
       "      <td>6</td>\n",
       "      <td>2021</td>\n",
       "      <td>1</td>\n",
       "      <td>Q1_2021</td>\n",
       "    </tr>\n",
       "  </tbody>\n",
       "</table>\n",
       "<p>846632 rows × 7 columns</p>\n",
       "</div>"
      ],
      "text/plain": [
       "        Encoded_SKU_ID SALES_DATE      Inventory  DAILY_UNITS  sales_yr  \\\n",
       "0                    1 2017-09-28  Fully-Stocked            1      2017   \n",
       "1                    2 2017-11-24  Fully-Stocked           18      2017   \n",
       "2                    3 2019-11-28    Constrained            7      2019   \n",
       "3                    4 2021-04-21  Fully-Stocked            6      2021   \n",
       "4                    1 2018-10-27  Fully-Stocked            7      2018   \n",
       "...                ...        ...            ...          ...       ...   \n",
       "846627              67 2020-11-16  Fully-Stocked            0      2020   \n",
       "846628             482 2021-05-06  Fully-Stocked            0      2021   \n",
       "846629             384 2021-09-25  Fully-Stocked            3      2021   \n",
       "846630             113 2018-11-08  Fully-Stocked            0      2018   \n",
       "846631             101 2021-03-14       Moderate            6      2021   \n",
       "\n",
       "        sales_quarter  quarter  \n",
       "0                   3  Q3_2017  \n",
       "1                   4  Q4_2017  \n",
       "2                   4  Q4_2019  \n",
       "3                   2  Q2_2021  \n",
       "4                   4  Q4_2018  \n",
       "...               ...      ...  \n",
       "846627              4  Q4_2020  \n",
       "846628              2  Q2_2021  \n",
       "846629              3  Q3_2021  \n",
       "846630              4  Q4_2018  \n",
       "846631              1  Q1_2021  \n",
       "\n",
       "[846632 rows x 7 columns]"
      ]
     },
     "execution_count": 197,
     "metadata": {},
     "output_type": "execute_result"
    }
   ],
   "source": [
    "df_subset"
   ]
  },
  {
   "cell_type": "code",
   "execution_count": 200,
   "id": "88ccaa45",
   "metadata": {},
   "outputs": [
    {
     "data": {
      "text/plain": [
       "array(['Fully-Stocked', 'Constrained', 'Moderate', 'Out-of-Stock'],\n",
       "      dtype=object)"
      ]
     },
     "execution_count": 200,
     "metadata": {},
     "output_type": "execute_result"
    }
   ],
   "source": [
    "df_subset.Inventory.unique()"
   ]
  },
  {
   "cell_type": "code",
   "execution_count": 205,
   "id": "a379124c",
   "metadata": {},
   "outputs": [
    {
     "data": {
      "text/html": [
       "<div>\n",
       "<style scoped>\n",
       "    .dataframe tbody tr th:only-of-type {\n",
       "        vertical-align: middle;\n",
       "    }\n",
       "\n",
       "    .dataframe tbody tr th {\n",
       "        vertical-align: top;\n",
       "    }\n",
       "\n",
       "    .dataframe thead th {\n",
       "        text-align: right;\n",
       "    }\n",
       "</style>\n",
       "<table border=\"1\" class=\"dataframe\">\n",
       "  <thead>\n",
       "    <tr style=\"text-align: right;\">\n",
       "      <th></th>\n",
       "      <th>Encoded_SKU_ID</th>\n",
       "      <th>SALES_DATE</th>\n",
       "      <th>Inventory</th>\n",
       "      <th>DAILY_UNITS</th>\n",
       "      <th>sales_yr</th>\n",
       "      <th>sales_quarter</th>\n",
       "      <th>quarter</th>\n",
       "    </tr>\n",
       "  </thead>\n",
       "  <tbody>\n",
       "    <tr>\n",
       "      <th>0</th>\n",
       "      <td>1</td>\n",
       "      <td>2017-09-28</td>\n",
       "      <td>Fully-Stocked</td>\n",
       "      <td>1</td>\n",
       "      <td>2017</td>\n",
       "      <td>3</td>\n",
       "      <td>Q3_2017</td>\n",
       "    </tr>\n",
       "    <tr>\n",
       "      <th>1</th>\n",
       "      <td>2</td>\n",
       "      <td>2017-11-24</td>\n",
       "      <td>Fully-Stocked</td>\n",
       "      <td>18</td>\n",
       "      <td>2017</td>\n",
       "      <td>4</td>\n",
       "      <td>Q4_2017</td>\n",
       "    </tr>\n",
       "    <tr>\n",
       "      <th>2</th>\n",
       "      <td>3</td>\n",
       "      <td>2019-11-28</td>\n",
       "      <td>Constrained</td>\n",
       "      <td>7</td>\n",
       "      <td>2019</td>\n",
       "      <td>4</td>\n",
       "      <td>Q4_2019</td>\n",
       "    </tr>\n",
       "    <tr>\n",
       "      <th>3</th>\n",
       "      <td>4</td>\n",
       "      <td>2021-04-21</td>\n",
       "      <td>Fully-Stocked</td>\n",
       "      <td>6</td>\n",
       "      <td>2021</td>\n",
       "      <td>2</td>\n",
       "      <td>Q2_2021</td>\n",
       "    </tr>\n",
       "    <tr>\n",
       "      <th>4</th>\n",
       "      <td>1</td>\n",
       "      <td>2018-10-27</td>\n",
       "      <td>Fully-Stocked</td>\n",
       "      <td>7</td>\n",
       "      <td>2018</td>\n",
       "      <td>4</td>\n",
       "      <td>Q4_2018</td>\n",
       "    </tr>\n",
       "  </tbody>\n",
       "</table>\n",
       "</div>"
      ],
      "text/plain": [
       "   Encoded_SKU_ID SALES_DATE      Inventory  DAILY_UNITS  sales_yr  \\\n",
       "0               1 2017-09-28  Fully-Stocked            1      2017   \n",
       "1               2 2017-11-24  Fully-Stocked           18      2017   \n",
       "2               3 2019-11-28    Constrained            7      2019   \n",
       "3               4 2021-04-21  Fully-Stocked            6      2021   \n",
       "4               1 2018-10-27  Fully-Stocked            7      2018   \n",
       "\n",
       "   sales_quarter  quarter  \n",
       "0              3  Q3_2017  \n",
       "1              4  Q4_2017  \n",
       "2              4  Q4_2019  \n",
       "3              2  Q2_2021  \n",
       "4              4  Q4_2018  "
      ]
     },
     "execution_count": 205,
     "metadata": {},
     "output_type": "execute_result"
    }
   ],
   "source": [
    "df_subset.head()"
   ]
  },
  {
   "cell_type": "code",
   "execution_count": 258,
   "id": "fca460c1",
   "metadata": {},
   "outputs": [
    {
     "name": "stderr",
     "output_type": "stream",
     "text": [
      "/var/folders/79/wlb93l7n51xbb60lcrj4jbr00000gn/T/ipykernel_67142/888065119.py:1: SettingWithCopyWarning: \n",
      "A value is trying to be set on a copy of a slice from a DataFrame.\n",
      "Try using .loc[row_indexer,col_indexer] = value instead\n",
      "\n",
      "See the caveats in the documentation: https://pandas.pydata.org/pandas-docs/stable/user_guide/indexing.html#returning-a-view-versus-a-copy\n",
      "  df_subset['year-month']=df_subset.SALES_DATE.dt.strftime('%Y-%m')\n",
      "/var/folders/79/wlb93l7n51xbb60lcrj4jbr00000gn/T/ipykernel_67142/888065119.py:2: SettingWithCopyWarning: \n",
      "A value is trying to be set on a copy of a slice from a DataFrame.\n",
      "Try using .loc[row_indexer,col_indexer] = value instead\n",
      "\n",
      "See the caveats in the documentation: https://pandas.pydata.org/pandas-docs/stable/user_guide/indexing.html#returning-a-view-versus-a-copy\n",
      "  df_subset['year-quarter']=df_subset.SALES_DATE.dt.strftime('%Y-%q')\n"
     ]
    }
   ],
   "source": [
    "df_subset['year-month']=df_subset.SALES_DATE.dt.strftime('%Y-%m')\n",
    "df_subset['year-quarter']=df_subset.SALES_DATE.dt.strftime('%Y-%q')"
   ]
  },
  {
   "cell_type": "code",
   "execution_count": 257,
   "id": "45653d75",
   "metadata": {},
   "outputs": [
    {
     "data": {
      "image/png": "[encoded data removed]",
      "text/plain": [
       "<Figure size 1080x720 with 1 Axes>"
      ]
     },
     "metadata": {},
     "output_type": "display_data"
    }
   ],
   "source": [
    "sns.set(rc={'figure.figsize':(15,10)})\n",
    "g=sns.lineplot(data=df_subset,x=\"quarter\",y=\"DAILY_UNITS\",hue=\"Inventory\")"
   ]
  },
  {
   "cell_type": "markdown",
   "id": "3a2c9544",
   "metadata": {},
   "source": [
    "## Observations : \n",
    "\n",
    "**Higher variance is seen in sales of products when they are in constrained or moderate state**\n",
    "**Slow mo"
   ]
  },
  {
   "cell_type": "code",
   "execution_count": 270,
   "id": "756f9a1e",
   "metadata": {},
   "outputs": [
    {
     "name": "stderr",
     "output_type": "stream",
     "text": [
      "/var/folders/79/wlb93l7n51xbb60lcrj4jbr00000gn/T/ipykernel_67142/3200808804.py:3: UserWarning: FixedFormatter should only be used together with FixedLocator\n",
      "  g.set_xticklabels(labels=list(sorted(df_subset['year-month'].unique())),rotation=90)\n"
     ]
    },
    {
     "data": {
      "text/plain": [
       "[Text(0, 0, '2017-05'),\n",
       " Text(1, 0, '2017-06'),\n",
       " Text(2, 0, '2017-07'),\n",
       " Text(3, 0, '2017-08'),\n",
       " Text(4, 0, '2017-09'),\n",
       " Text(5, 0, '2017-10'),\n",
       " Text(6, 0, '2017-11'),\n",
       " Text(7, 0, '2017-12'),\n",
       " Text(8, 0, '2018-01'),\n",
       " Text(9, 0, '2018-02'),\n",
       " Text(10, 0, '2018-03'),\n",
       " Text(11, 0, '2018-04'),\n",
       " Text(12, 0, '2018-05'),\n",
       " Text(13, 0, '2018-06'),\n",
       " Text(14, 0, '2018-07'),\n",
       " Text(15, 0, '2018-08'),\n",
       " Text(16, 0, '2018-09'),\n",
       " Text(17, 0, '2018-10'),\n",
       " Text(18, 0, '2018-11'),\n",
       " Text(19, 0, '2018-12'),\n",
       " Text(20, 0, '2019-01'),\n",
       " Text(21, 0, '2019-02'),\n",
       " Text(22, 0, '2019-03'),\n",
       " Text(23, 0, '2019-04'),\n",
       " Text(24, 0, '2019-05'),\n",
       " Text(25, 0, '2019-06'),\n",
       " Text(26, 0, '2019-07'),\n",
       " Text(27, 0, '2019-08'),\n",
       " Text(28, 0, '2019-09'),\n",
       " Text(29, 0, '2019-10'),\n",
       " Text(30, 0, '2019-11'),\n",
       " Text(31, 0, '2019-12'),\n",
       " Text(32, 0, '2020-01'),\n",
       " Text(33, 0, '2020-02'),\n",
       " Text(34, 0, '2020-03'),\n",
       " Text(35, 0, '2020-04'),\n",
       " Text(36, 0, '2020-05'),\n",
       " Text(37, 0, '2020-06'),\n",
       " Text(38, 0, '2020-07'),\n",
       " Text(39, 0, '2020-08'),\n",
       " Text(40, 0, '2020-09'),\n",
       " Text(41, 0, '2020-10'),\n",
       " Text(42, 0, '2020-11'),\n",
       " Text(43, 0, '2020-12'),\n",
       " Text(44, 0, '2021-01'),\n",
       " Text(45, 0, '2021-02'),\n",
       " Text(46, 0, '2021-03'),\n",
       " Text(47, 0, '2021-04'),\n",
       " Text(48, 0, '2021-05'),\n",
       " Text(49, 0, '2021-06'),\n",
       " Text(50, 0, '2021-07'),\n",
       " Text(51, 0, '2021-08'),\n",
       " Text(52, 0, '2021-09'),\n",
       " Text(53, 0, '2021-10'),\n",
       " Text(54, 0, '2021-11'),\n",
       " Text(55, 0, '2021-12'),\n",
       " Text(56, 0, '2022-01'),\n",
       " Text(57, 0, '2022-02'),\n",
       " Text(58, 0, '2022-03'),\n",
       " Text(59, 0, '2022-04'),\n",
       " Text(60, 0, '2022-05'),\n",
       " Text(61, 0, '2022-06'),\n",
       " Text(62, 0, '2022-07')]"
      ]
     },
     "execution_count": 270,
     "metadata": {},
     "output_type": "execute_result"
    },
    {
     "data": {
      "image/png": "[encoded data removed]",
      "text/plain": [
       "<Figure size 1080x720 with 1 Axes>"
      ]
     },
     "metadata": {},
     "output_type": "display_data"
    }
   ],
   "source": [
    "sns.set(rc={'figure.figsize':(15,10)})\n",
    "g=sns.lineplot(data=df_subset,x=\"year-month\",y=\"DAILY_UNITS\",hue=\"Inventory\")\n",
    "g.set_xticklabels(labels=list(sorted(df_subset['year-month'].unique())),rotation=90)"
   ]
  },
  {
   "cell_type": "code",
   "execution_count": 219,
   "id": "611670ce",
   "metadata": {},
   "outputs": [],
   "source": [
    "df_g3=df_subset.groupby([\"Encoded_SKU_ID\",\"Inventory\"],as_index=False).agg(n_dates=('SALES_DATE','count'),\\\n",
    "                                                                     avg_units_sold=('DAILY_UNITS','mean'),\n",
    "                                                                    std_units_sold=('DAILY_UNITS',lambda x:x.std(ddof=0)))\n"
   ]
  },
  {
   "cell_type": "code",
   "execution_count": 272,
   "id": "39ea851b",
   "metadata": {},
   "outputs": [],
   "source": [
    "df_g3['overall_sales']=df_g3.groupby('Encoded_SKU_ID')['n_dates'].transform(sum)"
   ]
  },
  {
   "cell_type": "code",
   "execution_count": 280,
   "id": "2351f5be",
   "metadata": {},
   "outputs": [
    {
     "data": {
      "text/html": [
       "<div>\n",
       "<style scoped>\n",
       "    .dataframe tbody tr th:only-of-type {\n",
       "        vertical-align: middle;\n",
       "    }\n",
       "\n",
       "    .dataframe tbody tr th {\n",
       "        vertical-align: top;\n",
       "    }\n",
       "\n",
       "    .dataframe thead th {\n",
       "        text-align: right;\n",
       "    }\n",
       "</style>\n",
       "<table border=\"1\" class=\"dataframe\">\n",
       "  <thead>\n",
       "    <tr style=\"text-align: right;\">\n",
       "      <th></th>\n",
       "      <th>Encoded_SKU_ID</th>\n",
       "      <th>Inventory</th>\n",
       "      <th>n_dates</th>\n",
       "      <th>avg_units_sold</th>\n",
       "      <th>std_units_sold</th>\n",
       "      <th>overall_sales</th>\n",
       "    </tr>\n",
       "  </thead>\n",
       "  <tbody>\n",
       "    <tr>\n",
       "      <th>0</th>\n",
       "      <td>1</td>\n",
       "      <td>Fully-Stocked</td>\n",
       "      <td>1828</td>\n",
       "      <td>2.271882</td>\n",
       "      <td>1.896079</td>\n",
       "      <td>1884</td>\n",
       "    </tr>\n",
       "    <tr>\n",
       "      <th>1</th>\n",
       "      <td>1</td>\n",
       "      <td>Out-of-Stock</td>\n",
       "      <td>56</td>\n",
       "      <td>2.142857</td>\n",
       "      <td>1.528638</td>\n",
       "      <td>1884</td>\n",
       "    </tr>\n",
       "    <tr>\n",
       "      <th>2</th>\n",
       "      <td>2</td>\n",
       "      <td>Fully-Stocked</td>\n",
       "      <td>1877</td>\n",
       "      <td>12.524241</td>\n",
       "      <td>9.061859</td>\n",
       "      <td>1891</td>\n",
       "    </tr>\n",
       "    <tr>\n",
       "      <th>3</th>\n",
       "      <td>2</td>\n",
       "      <td>Out-of-Stock</td>\n",
       "      <td>14</td>\n",
       "      <td>19.642857</td>\n",
       "      <td>14.787094</td>\n",
       "      <td>1891</td>\n",
       "    </tr>\n",
       "    <tr>\n",
       "      <th>4</th>\n",
       "      <td>3</td>\n",
       "      <td>Constrained</td>\n",
       "      <td>381</td>\n",
       "      <td>4.280840</td>\n",
       "      <td>2.737391</td>\n",
       "      <td>1838</td>\n",
       "    </tr>\n",
       "  </tbody>\n",
       "</table>\n",
       "</div>"
      ],
      "text/plain": [
       "   Encoded_SKU_ID      Inventory  n_dates  avg_units_sold  std_units_sold  \\\n",
       "0               1  Fully-Stocked     1828        2.271882        1.896079   \n",
       "1               1   Out-of-Stock       56        2.142857        1.528638   \n",
       "2               2  Fully-Stocked     1877       12.524241        9.061859   \n",
       "3               2   Out-of-Stock       14       19.642857       14.787094   \n",
       "4               3    Constrained      381        4.280840        2.737391   \n",
       "\n",
       "   overall_sales  \n",
       "0           1884  \n",
       "1           1884  \n",
       "2           1891  \n",
       "3           1891  \n",
       "4           1838  "
      ]
     },
     "execution_count": 280,
     "metadata": {},
     "output_type": "execute_result"
    }
   ],
   "source": [
    "df_g3.head()"
   ]
  },
  {
   "cell_type": "code",
   "execution_count": 292,
   "id": "83d60fe0",
   "metadata": {},
   "outputs": [],
   "source": [
    "df_g3['%']=round((df_g3['n_dates']/df_g3['overall_sales'])*100,2)"
   ]
  },
  {
   "cell_type": "code",
   "execution_count": 294,
   "id": "de61ca88",
   "metadata": {},
   "outputs": [],
   "source": [
    "df_g3.drop(columns='full_stock_%',inplace=True)"
   ]
  },
  {
   "cell_type": "code",
   "execution_count": 305,
   "id": "0a62491c",
   "metadata": {},
   "outputs": [],
   "source": [
    "p1=df_g3[(df_g3['Inventory']=='Fully-Stocked') & (df_g3['%']>99.0)]['Encoded_SKU_ID'].nunique()/df_g3['Encoded_SKU_ID'].nunique()"
   ]
  },
  {
   "cell_type": "code",
   "execution_count": 306,
   "id": "2e0f625e",
   "metadata": {},
   "outputs": [
    {
     "name": "stdout",
     "output_type": "stream",
     "text": [
      "22.26 % of SKUs are fully stocked for more than 99% of the days\n"
     ]
    }
   ],
   "source": [
    "print(f\"{p1*100:.2f} % of SKUs are fully stocked for more than 99% of the days\")"
   ]
  },
  {
   "cell_type": "code",
   "execution_count": 402,
   "id": "f4b34a7d",
   "metadata": {},
   "outputs": [],
   "source": [
    "df_pad=pd.read_csv(\"train_data_padded.csv\")"
   ]
  },
  {
   "cell_type": "code",
   "execution_count": 403,
   "id": "38dce060",
   "metadata": {},
   "outputs": [],
   "source": [
    "df_pad.drop(columns=\"Unnamed: 0\",inplace=True)"
   ]
  },
  {
   "cell_type": "code",
   "execution_count": 404,
   "id": "0adec556",
   "metadata": {},
   "outputs": [],
   "source": [
    "df_pad[\"DAILY_UNITS\"]=df_pad[\"DAILY_UNITS\"].astype(int)"
   ]
  },
  {
   "cell_type": "code",
   "execution_count": 405,
   "id": "92bdaa80",
   "metadata": {},
   "outputs": [],
   "source": [
    "df_pad[\"Daily_units_str\"]=df_pad[\"DAILY_UNITS\"].apply(lambda x:'y' if x!=0 else 'n')"
   ]
  },
  {
   "cell_type": "code",
   "execution_count": 406,
   "id": "43e62588",
   "metadata": {},
   "outputs": [
    {
     "data": {
      "text/html": [
       "<div>\n",
       "<style scoped>\n",
       "    .dataframe tbody tr th:only-of-type {\n",
       "        vertical-align: middle;\n",
       "    }\n",
       "\n",
       "    .dataframe tbody tr th {\n",
       "        vertical-align: top;\n",
       "    }\n",
       "\n",
       "    .dataframe thead th {\n",
       "        text-align: right;\n",
       "    }\n",
       "</style>\n",
       "<table border=\"1\" class=\"dataframe\">\n",
       "  <thead>\n",
       "    <tr style=\"text-align: right;\">\n",
       "      <th></th>\n",
       "      <th>date</th>\n",
       "      <th>Encoded_SKU_ID</th>\n",
       "      <th>DAILY_UNITS</th>\n",
       "      <th>Daily_units_str</th>\n",
       "    </tr>\n",
       "  </thead>\n",
       "  <tbody>\n",
       "    <tr>\n",
       "      <th>0</th>\n",
       "      <td>2017-05-28</td>\n",
       "      <td>1.0</td>\n",
       "      <td>0</td>\n",
       "      <td>n</td>\n",
       "    </tr>\n",
       "    <tr>\n",
       "      <th>1</th>\n",
       "      <td>2017-05-29</td>\n",
       "      <td>1.0</td>\n",
       "      <td>0</td>\n",
       "      <td>n</td>\n",
       "    </tr>\n",
       "    <tr>\n",
       "      <th>2</th>\n",
       "      <td>2017-05-30</td>\n",
       "      <td>1.0</td>\n",
       "      <td>0</td>\n",
       "      <td>n</td>\n",
       "    </tr>\n",
       "    <tr>\n",
       "      <th>3</th>\n",
       "      <td>2017-05-31</td>\n",
       "      <td>1.0</td>\n",
       "      <td>0</td>\n",
       "      <td>n</td>\n",
       "    </tr>\n",
       "    <tr>\n",
       "      <th>4</th>\n",
       "      <td>2017-06-01</td>\n",
       "      <td>1.0</td>\n",
       "      <td>0</td>\n",
       "      <td>n</td>\n",
       "    </tr>\n",
       "  </tbody>\n",
       "</table>\n",
       "</div>"
      ],
      "text/plain": [
       "         date  Encoded_SKU_ID  DAILY_UNITS Daily_units_str\n",
       "0  2017-05-28             1.0            0               n\n",
       "1  2017-05-29             1.0            0               n\n",
       "2  2017-05-30             1.0            0               n\n",
       "3  2017-05-31             1.0            0               n\n",
       "4  2017-06-01             1.0            0               n"
      ]
     },
     "execution_count": 406,
     "metadata": {},
     "output_type": "execute_result"
    }
   ],
   "source": [
    "df_pad.head()"
   ]
  },
  {
   "cell_type": "code",
   "execution_count": 407,
   "id": "aa04158b",
   "metadata": {},
   "outputs": [],
   "source": [
    "df_g4=df_pad.groupby([\"Encoded_SKU_ID\"],as_index=False)[\"Daily_units_str\"].sum()"
   ]
  },
  {
   "cell_type": "code",
   "execution_count": 408,
   "id": "ae315ca0",
   "metadata": {},
   "outputs": [],
   "source": [
    "df_g5=df_pad.groupby([\"Encoded_SKU_ID\",\"Daily_units_str\"],as_index=False).agg(total_days=(\"date\",\"count\"))"
   ]
  },
  {
   "cell_type": "code",
   "execution_count": 409,
   "id": "961e420e",
   "metadata": {},
   "outputs": [],
   "source": [
    "df_g5[\"total_days_overall\"]=df_g5.groupby([\"Encoded_SKU_ID\"])[\"total_days\"].transform(sum)"
   ]
  },
  {
   "cell_type": "code",
   "execution_count": 410,
   "id": "b6bc1234",
   "metadata": {},
   "outputs": [],
   "source": [
    "df_g5['%']=np.round((df_g5['total_days']/df_g5['total_days_overall'])*100,2)"
   ]
  },
  {
   "cell_type": "code",
   "execution_count": 411,
   "id": "4a548f11",
   "metadata": {},
   "outputs": [
    {
     "data": {
      "text/plain": [
       "count    574.000000\n",
       "mean      20.266916\n",
       "std       16.963450\n",
       "min        0.060000\n",
       "25%        5.627500\n",
       "50%       15.095000\n",
       "75%       31.637500\n",
       "max       73.230000\n",
       "Name: %, dtype: float64"
      ]
     },
     "execution_count": 411,
     "metadata": {},
     "output_type": "execute_result"
    }
   ],
   "source": [
    "df_g5[(df_g5[\"Daily_units_str\"]=='n')]['%'].describe()"
   ]
  },
  {
   "cell_type": "code",
   "execution_count": 440,
   "id": "c9d6a049",
   "metadata": {},
   "outputs": [],
   "source": [
    "df_g5[\"rank\"]=df_g5.groupby([\"Daily_units_str\"])['%'].transform(lambda x:x.rank(method='dense',ascending=False))"
   ]
  },
  {
   "cell_type": "code",
   "execution_count": 533,
   "id": "abdb3371",
   "metadata": {},
   "outputs": [],
   "source": [
    "set_1=set(df_g5[(df_g5[\"Daily_units_str\"]==\"n\") & (df_g5[\"rank\"]<=30)].sort_values(by=[\"rank\"])[\"Encoded_SKU_ID\"].unique())"
   ]
  },
  {
   "cell_type": "code",
   "execution_count": 466,
   "id": "38ba0a84",
   "metadata": {},
   "outputs": [
    {
     "data": {
      "text/html": [
       "<div>\n",
       "<style scoped>\n",
       "    .dataframe tbody tr th:only-of-type {\n",
       "        vertical-align: middle;\n",
       "    }\n",
       "\n",
       "    .dataframe tbody tr th {\n",
       "        vertical-align: top;\n",
       "    }\n",
       "\n",
       "    .dataframe thead th {\n",
       "        text-align: right;\n",
       "    }\n",
       "</style>\n",
       "<table border=\"1\" class=\"dataframe\">\n",
       "  <thead>\n",
       "    <tr style=\"text-align: right;\">\n",
       "      <th></th>\n",
       "      <th>Encoded_SKU_ID</th>\n",
       "      <th>Daily_units_str</th>\n",
       "      <th>total_days</th>\n",
       "      <th>total_days_overall</th>\n",
       "      <th>%</th>\n",
       "      <th>rank</th>\n",
       "    </tr>\n",
       "  </thead>\n",
       "  <tbody>\n",
       "    <tr>\n",
       "      <th>308</th>\n",
       "      <td>155.0</td>\n",
       "      <td>n</td>\n",
       "      <td>1269</td>\n",
       "      <td>1733</td>\n",
       "      <td>73.23</td>\n",
       "      <td>1.0</td>\n",
       "    </tr>\n",
       "    <tr>\n",
       "      <th>352</th>\n",
       "      <td>177.0</td>\n",
       "      <td>n</td>\n",
       "      <td>1180</td>\n",
       "      <td>1877</td>\n",
       "      <td>62.87</td>\n",
       "      <td>3.0</td>\n",
       "    </tr>\n",
       "    <tr>\n",
       "      <th>815</th>\n",
       "      <td>409.0</td>\n",
       "      <td>n</td>\n",
       "      <td>694</td>\n",
       "      <td>1104</td>\n",
       "      <td>62.86</td>\n",
       "      <td>4.0</td>\n",
       "    </tr>\n",
       "    <tr>\n",
       "      <th>911</th>\n",
       "      <td>457.0</td>\n",
       "      <td>n</td>\n",
       "      <td>992</td>\n",
       "      <td>1599</td>\n",
       "      <td>62.04</td>\n",
       "      <td>5.0</td>\n",
       "    </tr>\n",
       "    <tr>\n",
       "      <th>1031</th>\n",
       "      <td>517.0</td>\n",
       "      <td>n</td>\n",
       "      <td>1092</td>\n",
       "      <td>1583</td>\n",
       "      <td>68.98</td>\n",
       "      <td>2.0</td>\n",
       "    </tr>\n",
       "  </tbody>\n",
       "</table>\n",
       "</div>"
      ],
      "text/plain": [
       "      Encoded_SKU_ID Daily_units_str  total_days  total_days_overall      %  \\\n",
       "308            155.0               n        1269                1733  73.23   \n",
       "352            177.0               n        1180                1877  62.87   \n",
       "815            409.0               n         694                1104  62.86   \n",
       "911            457.0               n         992                1599  62.04   \n",
       "1031           517.0               n        1092                1583  68.98   \n",
       "\n",
       "      rank  \n",
       "308    1.0  \n",
       "352    3.0  \n",
       "815    4.0  \n",
       "911    5.0  \n",
       "1031   2.0  "
      ]
     },
     "execution_count": 466,
     "metadata": {},
     "output_type": "execute_result"
    }
   ],
   "source": [
    "df_g5[(df_g5[\"Daily_units_str\"]==\"n\") & (df_g5[\"%\"]>=60)]"
   ]
  },
  {
   "cell_type": "code",
   "execution_count": 467,
   "id": "254e2fbb",
   "metadata": {},
   "outputs": [],
   "source": [
    "# 5 sku's with unsold on more than 60% of days\n",
    "# Top 10 sku's based on number of unsold days"
   ]
  },
  {
   "cell_type": "code",
   "execution_count": 470,
   "id": "dc3a6f34",
   "metadata": {},
   "outputs": [
    {
     "data": {
      "text/html": [
       "<div>\n",
       "<style scoped>\n",
       "    .dataframe tbody tr th:only-of-type {\n",
       "        vertical-align: middle;\n",
       "    }\n",
       "\n",
       "    .dataframe tbody tr th {\n",
       "        vertical-align: top;\n",
       "    }\n",
       "\n",
       "    .dataframe thead th {\n",
       "        text-align: right;\n",
       "    }\n",
       "</style>\n",
       "<table border=\"1\" class=\"dataframe\">\n",
       "  <thead>\n",
       "    <tr style=\"text-align: right;\">\n",
       "      <th></th>\n",
       "      <th>Encoded_SKU_ID</th>\n",
       "      <th>Daily_units_str</th>\n",
       "      <th>total_days</th>\n",
       "      <th>total_days_overall</th>\n",
       "      <th>%</th>\n",
       "      <th>rank</th>\n",
       "    </tr>\n",
       "  </thead>\n",
       "  <tbody>\n",
       "    <tr>\n",
       "      <th>190</th>\n",
       "      <td>96.0</td>\n",
       "      <td>n</td>\n",
       "      <td>932</td>\n",
       "      <td>1583</td>\n",
       "      <td>58.88</td>\n",
       "      <td>9.0</td>\n",
       "    </tr>\n",
       "    <tr>\n",
       "      <th>308</th>\n",
       "      <td>155.0</td>\n",
       "      <td>n</td>\n",
       "      <td>1269</td>\n",
       "      <td>1733</td>\n",
       "      <td>73.23</td>\n",
       "      <td>1.0</td>\n",
       "    </tr>\n",
       "    <tr>\n",
       "      <th>314</th>\n",
       "      <td>158.0</td>\n",
       "      <td>n</td>\n",
       "      <td>1108</td>\n",
       "      <td>1870</td>\n",
       "      <td>59.25</td>\n",
       "      <td>7.0</td>\n",
       "    </tr>\n",
       "    <tr>\n",
       "      <th>330</th>\n",
       "      <td>166.0</td>\n",
       "      <td>n</td>\n",
       "      <td>1113</td>\n",
       "      <td>1891</td>\n",
       "      <td>58.86</td>\n",
       "      <td>10.0</td>\n",
       "    </tr>\n",
       "    <tr>\n",
       "      <th>352</th>\n",
       "      <td>177.0</td>\n",
       "      <td>n</td>\n",
       "      <td>1180</td>\n",
       "      <td>1877</td>\n",
       "      <td>62.87</td>\n",
       "      <td>3.0</td>\n",
       "    </tr>\n",
       "    <tr>\n",
       "      <th>493</th>\n",
       "      <td>248.0</td>\n",
       "      <td>n</td>\n",
       "      <td>1036</td>\n",
       "      <td>1751</td>\n",
       "      <td>59.17</td>\n",
       "      <td>8.0</td>\n",
       "    </tr>\n",
       "    <tr>\n",
       "      <th>815</th>\n",
       "      <td>409.0</td>\n",
       "      <td>n</td>\n",
       "      <td>694</td>\n",
       "      <td>1104</td>\n",
       "      <td>62.86</td>\n",
       "      <td>4.0</td>\n",
       "    </tr>\n",
       "    <tr>\n",
       "      <th>853</th>\n",
       "      <td>428.0</td>\n",
       "      <td>n</td>\n",
       "      <td>945</td>\n",
       "      <td>1583</td>\n",
       "      <td>59.70</td>\n",
       "      <td>6.0</td>\n",
       "    </tr>\n",
       "    <tr>\n",
       "      <th>911</th>\n",
       "      <td>457.0</td>\n",
       "      <td>n</td>\n",
       "      <td>992</td>\n",
       "      <td>1599</td>\n",
       "      <td>62.04</td>\n",
       "      <td>5.0</td>\n",
       "    </tr>\n",
       "    <tr>\n",
       "      <th>1031</th>\n",
       "      <td>517.0</td>\n",
       "      <td>n</td>\n",
       "      <td>1092</td>\n",
       "      <td>1583</td>\n",
       "      <td>68.98</td>\n",
       "      <td>2.0</td>\n",
       "    </tr>\n",
       "  </tbody>\n",
       "</table>\n",
       "</div>"
      ],
      "text/plain": [
       "      Encoded_SKU_ID Daily_units_str  total_days  total_days_overall      %  \\\n",
       "190             96.0               n         932                1583  58.88   \n",
       "308            155.0               n        1269                1733  73.23   \n",
       "314            158.0               n        1108                1870  59.25   \n",
       "330            166.0               n        1113                1891  58.86   \n",
       "352            177.0               n        1180                1877  62.87   \n",
       "493            248.0               n        1036                1751  59.17   \n",
       "815            409.0               n         694                1104  62.86   \n",
       "853            428.0               n         945                1583  59.70   \n",
       "911            457.0               n         992                1599  62.04   \n",
       "1031           517.0               n        1092                1583  68.98   \n",
       "\n",
       "      rank  \n",
       "190    9.0  \n",
       "308    1.0  \n",
       "314    7.0  \n",
       "330   10.0  \n",
       "352    3.0  \n",
       "493    8.0  \n",
       "815    4.0  \n",
       "853    6.0  \n",
       "911    5.0  \n",
       "1031   2.0  "
      ]
     },
     "execution_count": 470,
     "metadata": {},
     "output_type": "execute_result"
    }
   ],
   "source": [
    "df_g5[(df_g5[\"Daily_units_str\"]==\"n\") & (df_g5[\"rank\"]<=10)]"
   ]
  },
  {
   "cell_type": "code",
   "execution_count": 490,
   "id": "f02897c3",
   "metadata": {},
   "outputs": [],
   "source": [
    "df_g6=df_pad.groupby([\"Encoded_SKU_ID\"],as_index=False)[\"Daily_units_str\"].sum()"
   ]
  },
  {
   "cell_type": "code",
   "execution_count": 510,
   "id": "973e14b6",
   "metadata": {},
   "outputs": [
    {
     "data": {
      "text/html": [
       "<div>\n",
       "<style scoped>\n",
       "    .dataframe tbody tr th:only-of-type {\n",
       "        vertical-align: middle;\n",
       "    }\n",
       "\n",
       "    .dataframe tbody tr th {\n",
       "        vertical-align: top;\n",
       "    }\n",
       "\n",
       "    .dataframe thead th {\n",
       "        text-align: right;\n",
       "    }\n",
       "</style>\n",
       "<table border=\"1\" class=\"dataframe\">\n",
       "  <thead>\n",
       "    <tr style=\"text-align: right;\">\n",
       "      <th></th>\n",
       "      <th>Encoded_SKU_ID</th>\n",
       "      <th>Daily_units_str</th>\n",
       "    </tr>\n",
       "  </thead>\n",
       "  <tbody>\n",
       "    <tr>\n",
       "      <th>0</th>\n",
       "      <td>1.0</td>\n",
       "      <td>nnnnnyyyyyyyyyyyyyynynyyyyyyyyyynyyyyyyyyyyyyy...</td>\n",
       "    </tr>\n",
       "    <tr>\n",
       "      <th>1</th>\n",
       "      <td>2.0</td>\n",
       "      <td>nnnnnyyyyyyyyyyyyyyyyyyyyyyyyyyyyyyyyyyyyyyyyy...</td>\n",
       "    </tr>\n",
       "    <tr>\n",
       "      <th>2</th>\n",
       "      <td>3.0</td>\n",
       "      <td>nnnyyyynynnnnynynynnyynnyyynnyyyynnnynnnyynyny...</td>\n",
       "    </tr>\n",
       "    <tr>\n",
       "      <th>3</th>\n",
       "      <td>4.0</td>\n",
       "      <td>yyyyyyyyyyyyyyyyyyyyyyyyynyyyyyyyyyyyyynyyyyyy...</td>\n",
       "    </tr>\n",
       "    <tr>\n",
       "      <th>4</th>\n",
       "      <td>5.0</td>\n",
       "      <td>nnnnnyyyyyyyyyyyyyyyyyyyyyyyyyyyyyyyyyyyyyyyyy...</td>\n",
       "    </tr>\n",
       "  </tbody>\n",
       "</table>\n",
       "</div>"
      ],
      "text/plain": [
       "   Encoded_SKU_ID                                    Daily_units_str\n",
       "0             1.0  nnnnnyyyyyyyyyyyyyynynyyyyyyyyyynyyyyyyyyyyyyy...\n",
       "1             2.0  nnnnnyyyyyyyyyyyyyyyyyyyyyyyyyyyyyyyyyyyyyyyyy...\n",
       "2             3.0  nnnyyyynynnnnynynynnyynnyyynnyyyynnnynnnyynyny...\n",
       "3             4.0  yyyyyyyyyyyyyyyyyyyyyyyyynyyyyyyyyyyyyynyyyyyy...\n",
       "4             5.0  nnnnnyyyyyyyyyyyyyyyyyyyyyyyyyyyyyyyyyyyyyyyyy..."
      ]
     },
     "execution_count": 510,
     "metadata": {},
     "output_type": "execute_result"
    }
   ],
   "source": [
    "df_g6.head()"
   ]
  },
  {
   "cell_type": "code",
   "execution_count": 514,
   "id": "c391d6d5",
   "metadata": {},
   "outputs": [],
   "source": [
    "df_g6.loc[:,\"avg_shelf_life\"]=df_g6[\"Daily_units_str\"].apply(lambda x:np.mean([len(i) for i in x.split('y') if i!='']))  "
   ]
  },
  {
   "cell_type": "code",
   "execution_count": 517,
   "id": "4b8e1a31",
   "metadata": {},
   "outputs": [],
   "source": [
    "df_g6[\"rank\"]=df_g6[\"avg_shelf_life\"].rank(method='dense',ascending=False)"
   ]
  },
  {
   "cell_type": "code",
   "execution_count": 532,
   "id": "125db41a",
   "metadata": {},
   "outputs": [],
   "source": [
    "set_2=set(df_g6[df_g6[\"rank\"].between(1,20)].sort_values(by=[\"rank\"])[\"Encoded_SKU_ID\"].unique())"
   ]
  },
  {
   "cell_type": "code",
   "execution_count": 534,
   "id": "4a7b88ec",
   "metadata": {},
   "outputs": [
    {
     "data": {
      "text/plain": [
       "[449.0, 358.0, 409.0, 155.0, 223.0]"
      ]
     },
     "execution_count": 534,
     "metadata": {},
     "output_type": "execute_result"
    }
   ],
   "source": [
    "list(set_1.intersection(set_2))"
   ]
  },
  {
   "cell_type": "code",
   "execution_count": 538,
   "id": "7d441689",
   "metadata": {},
   "outputs": [
    {
     "data": {
      "text/plain": [
       "[424.0,\n",
       " 207.0,\n",
       " 101.0,\n",
       " 387.0,\n",
       " 252.0,\n",
       " 449.0,\n",
       " 201.0,\n",
       " 494.0,\n",
       " 37.0,\n",
       " 304.0,\n",
       " 452.0,\n",
       " 4.0,\n",
       " 69.0,\n",
       " 378.0,\n",
       " 358.0,\n",
       " 526.0,\n",
       " 223.0,\n",
       " 157.0,\n",
       " 446.0,\n",
       " 409.0]"
      ]
     },
     "execution_count": 538,
     "metadata": {},
     "output_type": "execute_result"
    }
   ],
   "source": [
    "list(df_g6[df_g6[\"rank\"].between(1,20)].sort_values(by=[\"rank\"])[\"Encoded_SKU_ID\"].unique())"
   ]
  },
  {
   "cell_type": "code",
   "execution_count": 537,
   "id": "80110713",
   "metadata": {},
   "outputs": [
    {
     "data": {
      "text/html": [
       "<div>\n",
       "<style scoped>\n",
       "    .dataframe tbody tr th:only-of-type {\n",
       "        vertical-align: middle;\n",
       "    }\n",
       "\n",
       "    .dataframe tbody tr th {\n",
       "        vertical-align: top;\n",
       "    }\n",
       "\n",
       "    .dataframe thead th {\n",
       "        text-align: right;\n",
       "    }\n",
       "</style>\n",
       "<table border=\"1\" class=\"dataframe\">\n",
       "  <thead>\n",
       "    <tr style=\"text-align: right;\">\n",
       "      <th></th>\n",
       "      <th>Encoded_SKU_ID</th>\n",
       "      <th>Daily_units_str</th>\n",
       "      <th>avg_shelf_life</th>\n",
       "      <th>rank</th>\n",
       "    </tr>\n",
       "  </thead>\n",
       "  <tbody>\n",
       "    <tr>\n",
       "      <th>3</th>\n",
       "      <td>4.0</td>\n",
       "      <td>yyyyyyyyyyyyyyyyyyyyyyyyynyyyyyyyyyyyyynyyyyyy...</td>\n",
       "      <td>9.387755</td>\n",
       "      <td>12.0</td>\n",
       "    </tr>\n",
       "    <tr>\n",
       "      <th>36</th>\n",
       "      <td>37.0</td>\n",
       "      <td>nnnnnyyyyyyyyyyyyyyyyyyyyyyyyyyyyyyyyyyyyyyyyy...</td>\n",
       "      <td>11.300000</td>\n",
       "      <td>9.0</td>\n",
       "    </tr>\n",
       "    <tr>\n",
       "      <th>68</th>\n",
       "      <td>69.0</td>\n",
       "      <td>nyyyyyyyyyyyyyyyyyyyyynyyyynnyyyyyyyyynnyyyyny...</td>\n",
       "      <td>8.988372</td>\n",
       "      <td>13.0</td>\n",
       "    </tr>\n",
       "    <tr>\n",
       "      <th>100</th>\n",
       "      <td>101.0</td>\n",
       "      <td>yyyyyyyyynyyyyyyyyyyyyyyyyyyyyyyyyyyyyyyyyyyyy...</td>\n",
       "      <td>57.857143</td>\n",
       "      <td>3.0</td>\n",
       "    </tr>\n",
       "    <tr>\n",
       "      <th>156</th>\n",
       "      <td>157.0</td>\n",
       "      <td>ynynnnnnnnnnnnnnnnnnnnnnnnnnnnnnnnnnnnnnnnnnnn...</td>\n",
       "      <td>5.703297</td>\n",
       "      <td>18.0</td>\n",
       "    </tr>\n",
       "    <tr>\n",
       "      <th>200</th>\n",
       "      <td>201.0</td>\n",
       "      <td>yyynyyyyyyyyyyyyyyyyyyyyyyyyyyyyyyyyyyyyyyyyyy...</td>\n",
       "      <td>11.666667</td>\n",
       "      <td>7.0</td>\n",
       "    </tr>\n",
       "    <tr>\n",
       "      <th>206</th>\n",
       "      <td>207.0</td>\n",
       "      <td>yyyyyyyyyyyyyyyyyyyyyyyyyyyyyyyyyyyyyyyyyyyyyy...</td>\n",
       "      <td>81.800000</td>\n",
       "      <td>2.0</td>\n",
       "    </tr>\n",
       "    <tr>\n",
       "      <th>222</th>\n",
       "      <td>223.0</td>\n",
       "      <td>yyyyyyyyyyyynyyyyyyyyyyyyyyyyyyyyyyynynyyyyyyy...</td>\n",
       "      <td>5.784314</td>\n",
       "      <td>17.0</td>\n",
       "    </tr>\n",
       "    <tr>\n",
       "      <th>251</th>\n",
       "      <td>252.0</td>\n",
       "      <td>yyyyyynnnnnnnnnnnnnnnnnyyyyyyyyyyyyyyyyyyyyyyy...</td>\n",
       "      <td>17.000000</td>\n",
       "      <td>5.0</td>\n",
       "    </tr>\n",
       "    <tr>\n",
       "      <th>303</th>\n",
       "      <td>304.0</td>\n",
       "      <td>nnnnnnynnnnnnnnnnnnnnnnnnnnnnnnnnnnnnnnnnnnnnn...</td>\n",
       "      <td>9.845070</td>\n",
       "      <td>10.0</td>\n",
       "    </tr>\n",
       "    <tr>\n",
       "      <th>357</th>\n",
       "      <td>358.0</td>\n",
       "      <td>yyyyyyyyyyyyyyyyyyyyyyyyyyyyyyyyyyyyyyyyyyyyyy...</td>\n",
       "      <td>7.338583</td>\n",
       "      <td>15.0</td>\n",
       "    </tr>\n",
       "    <tr>\n",
       "      <th>377</th>\n",
       "      <td>378.0</td>\n",
       "      <td>nnyyyyyynyyynyynyynyyyyyyyyyyyyynyyyyynyyyyyyy...</td>\n",
       "      <td>8.444444</td>\n",
       "      <td>14.0</td>\n",
       "    </tr>\n",
       "    <tr>\n",
       "      <th>386</th>\n",
       "      <td>387.0</td>\n",
       "      <td>yyyyyyyyyyyyyyyyyyyyyyyyyyyyyyyyyyyyyyyyyyyyyy...</td>\n",
       "      <td>29.428571</td>\n",
       "      <td>4.0</td>\n",
       "    </tr>\n",
       "    <tr>\n",
       "      <th>408</th>\n",
       "      <td>409.0</td>\n",
       "      <td>ynnnnnnnnnnnnnnnnnnnnnnynnnnnnnnnnnnnnnnnnnnny...</td>\n",
       "      <td>5.257576</td>\n",
       "      <td>20.0</td>\n",
       "    </tr>\n",
       "    <tr>\n",
       "      <th>423</th>\n",
       "      <td>424.0</td>\n",
       "      <td>yyyyyyyyyyyyyyyyyyyyyyyyyyyyyyyyyyyyyyyyyyyyyy...</td>\n",
       "      <td>399.000000</td>\n",
       "      <td>1.0</td>\n",
       "    </tr>\n",
       "    <tr>\n",
       "      <th>445</th>\n",
       "      <td>446.0</td>\n",
       "      <td>nnyyyyynnyynnyyyyyynynyyynnyyyyynnnyyynyynnnyn...</td>\n",
       "      <td>5.617021</td>\n",
       "      <td>19.0</td>\n",
       "    </tr>\n",
       "    <tr>\n",
       "      <th>448</th>\n",
       "      <td>449.0</td>\n",
       "      <td>nnnnnnnnnnynnnyyyynnnnnnnyynnnnnnnnnnnnnnnnnnn...</td>\n",
       "      <td>15.833333</td>\n",
       "      <td>6.0</td>\n",
       "    </tr>\n",
       "    <tr>\n",
       "      <th>451</th>\n",
       "      <td>452.0</td>\n",
       "      <td>nnynnynnynnnnynnnynyyyynynyyyynnyyyyyyynnnnnnn...</td>\n",
       "      <td>9.520000</td>\n",
       "      <td>11.0</td>\n",
       "    </tr>\n",
       "    <tr>\n",
       "      <th>493</th>\n",
       "      <td>494.0</td>\n",
       "      <td>nnnnnnnnnnnnnnnnnnnnnnnnnnnnnnnnnnnnnnnnnnnnnn...</td>\n",
       "      <td>11.382353</td>\n",
       "      <td>8.0</td>\n",
       "    </tr>\n",
       "    <tr>\n",
       "      <th>525</th>\n",
       "      <td>526.0</td>\n",
       "      <td>yyyyyyyyyyyyyyyyyyyyyyyyyyyyyyyyyyyynyyyyyyyyn...</td>\n",
       "      <td>7.089552</td>\n",
       "      <td>16.0</td>\n",
       "    </tr>\n",
       "  </tbody>\n",
       "</table>\n",
       "</div>"
      ],
      "text/plain": [
       "     Encoded_SKU_ID                                    Daily_units_str  \\\n",
       "3               4.0  yyyyyyyyyyyyyyyyyyyyyyyyynyyyyyyyyyyyyynyyyyyy...   \n",
       "36             37.0  nnnnnyyyyyyyyyyyyyyyyyyyyyyyyyyyyyyyyyyyyyyyyy...   \n",
       "68             69.0  nyyyyyyyyyyyyyyyyyyyyynyyyynnyyyyyyyyynnyyyyny...   \n",
       "100           101.0  yyyyyyyyynyyyyyyyyyyyyyyyyyyyyyyyyyyyyyyyyyyyy...   \n",
       "156           157.0  ynynnnnnnnnnnnnnnnnnnnnnnnnnnnnnnnnnnnnnnnnnnn...   \n",
       "200           201.0  yyynyyyyyyyyyyyyyyyyyyyyyyyyyyyyyyyyyyyyyyyyyy...   \n",
       "206           207.0  yyyyyyyyyyyyyyyyyyyyyyyyyyyyyyyyyyyyyyyyyyyyyy...   \n",
       "222           223.0  yyyyyyyyyyyynyyyyyyyyyyyyyyyyyyyyyyynynyyyyyyy...   \n",
       "251           252.0  yyyyyynnnnnnnnnnnnnnnnnyyyyyyyyyyyyyyyyyyyyyyy...   \n",
       "303           304.0  nnnnnnynnnnnnnnnnnnnnnnnnnnnnnnnnnnnnnnnnnnnnn...   \n",
       "357           358.0  yyyyyyyyyyyyyyyyyyyyyyyyyyyyyyyyyyyyyyyyyyyyyy...   \n",
       "377           378.0  nnyyyyyynyyynyynyynyyyyyyyyyyyyynyyyyynyyyyyyy...   \n",
       "386           387.0  yyyyyyyyyyyyyyyyyyyyyyyyyyyyyyyyyyyyyyyyyyyyyy...   \n",
       "408           409.0  ynnnnnnnnnnnnnnnnnnnnnnynnnnnnnnnnnnnnnnnnnnny...   \n",
       "423           424.0  yyyyyyyyyyyyyyyyyyyyyyyyyyyyyyyyyyyyyyyyyyyyyy...   \n",
       "445           446.0  nnyyyyynnyynnyyyyyynynyyynnyyyyynnnyyynyynnnyn...   \n",
       "448           449.0  nnnnnnnnnnynnnyyyynnnnnnnyynnnnnnnnnnnnnnnnnnn...   \n",
       "451           452.0  nnynnynnynnnnynnnynyyyynynyyyynnyyyyyyynnnnnnn...   \n",
       "493           494.0  nnnnnnnnnnnnnnnnnnnnnnnnnnnnnnnnnnnnnnnnnnnnnn...   \n",
       "525           526.0  yyyyyyyyyyyyyyyyyyyyyyyyyyyyyyyyyyyynyyyyyyyyn...   \n",
       "\n",
       "     avg_shelf_life  rank  \n",
       "3          9.387755  12.0  \n",
       "36        11.300000   9.0  \n",
       "68         8.988372  13.0  \n",
       "100       57.857143   3.0  \n",
       "156        5.703297  18.0  \n",
       "200       11.666667   7.0  \n",
       "206       81.800000   2.0  \n",
       "222        5.784314  17.0  \n",
       "251       17.000000   5.0  \n",
       "303        9.845070  10.0  \n",
       "357        7.338583  15.0  \n",
       "377        8.444444  14.0  \n",
       "386       29.428571   4.0  \n",
       "408        5.257576  20.0  \n",
       "423      399.000000   1.0  \n",
       "445        5.617021  19.0  \n",
       "448       15.833333   6.0  \n",
       "451        9.520000  11.0  \n",
       "493       11.382353   8.0  \n",
       "525        7.089552  16.0  "
      ]
     },
     "execution_count": 537,
     "metadata": {},
     "output_type": "execute_result"
    }
   ],
   "source": [
    "df_g6[df_g6[\"rank\"].between(1,20)]"
   ]
  },
  {
   "cell_type": "code",
   "execution_count": 539,
   "id": "119b0f07",
   "metadata": {},
   "outputs": [
    {
     "data": {
      "text/html": [
       "<div>\n",
       "<style scoped>\n",
       "    .dataframe tbody tr th:only-of-type {\n",
       "        vertical-align: middle;\n",
       "    }\n",
       "\n",
       "    .dataframe tbody tr th {\n",
       "        vertical-align: top;\n",
       "    }\n",
       "\n",
       "    .dataframe thead th {\n",
       "        text-align: right;\n",
       "    }\n",
       "</style>\n",
       "<table border=\"1\" class=\"dataframe\">\n",
       "  <thead>\n",
       "    <tr style=\"text-align: right;\">\n",
       "      <th></th>\n",
       "      <th>Encoded_SKU_ID</th>\n",
       "      <th>Daily_units_str</th>\n",
       "      <th>avg_shelf_life</th>\n",
       "      <th>rank</th>\n",
       "    </tr>\n",
       "  </thead>\n",
       "  <tbody>\n",
       "    <tr>\n",
       "      <th>0</th>\n",
       "      <td>1.0</td>\n",
       "      <td>nnnnnyyyyyyyyyyyyyynynyyyyyyyyyynyyyyyyyyyyyyy...</td>\n",
       "      <td>1.416327</td>\n",
       "      <td>373.0</td>\n",
       "    </tr>\n",
       "    <tr>\n",
       "      <th>1</th>\n",
       "      <td>2.0</td>\n",
       "      <td>nnnnnyyyyyyyyyyyyyyyyyyyyyyyyyyyyyyyyyyyyyyyyy...</td>\n",
       "      <td>1.147059</td>\n",
       "      <td>497.0</td>\n",
       "    </tr>\n",
       "    <tr>\n",
       "      <th>2</th>\n",
       "      <td>3.0</td>\n",
       "      <td>nnnyyyynynnnnynynynnyynnyyynnyyyynnnynnnyynyny...</td>\n",
       "      <td>1.845833</td>\n",
       "      <td>224.0</td>\n",
       "    </tr>\n",
       "    <tr>\n",
       "      <th>3</th>\n",
       "      <td>4.0</td>\n",
       "      <td>yyyyyyyyyyyyyyyyyyyyyyyyynyyyyyyyyyyyyynyyyyyy...</td>\n",
       "      <td>9.387755</td>\n",
       "      <td>12.0</td>\n",
       "    </tr>\n",
       "    <tr>\n",
       "      <th>4</th>\n",
       "      <td>5.0</td>\n",
       "      <td>nnnnnyyyyyyyyyyyyyyyyyyyyyyyyyyyyyyyyyyyyyyyyy...</td>\n",
       "      <td>1.113924</td>\n",
       "      <td>510.0</td>\n",
       "    </tr>\n",
       "    <tr>\n",
       "      <th>...</th>\n",
       "      <td>...</td>\n",
       "      <td>...</td>\n",
       "      <td>...</td>\n",
       "      <td>...</td>\n",
       "    </tr>\n",
       "    <tr>\n",
       "      <th>570</th>\n",
       "      <td>571.0</td>\n",
       "      <td>ynnynnnynynnnnnnnnnnnnnnnnnnnnnnnnnnnnnnnnnnnn...</td>\n",
       "      <td>3.224490</td>\n",
       "      <td>63.0</td>\n",
       "    </tr>\n",
       "    <tr>\n",
       "      <th>571</th>\n",
       "      <td>572.0</td>\n",
       "      <td>nnnyynyyyyynyyyynnnyynyyyyyynyyyyyyyynyyynynyy...</td>\n",
       "      <td>1.147059</td>\n",
       "      <td>497.0</td>\n",
       "    </tr>\n",
       "    <tr>\n",
       "      <th>572</th>\n",
       "      <td>573.0</td>\n",
       "      <td>nnnnnynynyyyyyyyyyyyyyyyyyyyyyyyyyyyyyyyyyyyyy...</td>\n",
       "      <td>1.656250</td>\n",
       "      <td>286.0</td>\n",
       "    </tr>\n",
       "    <tr>\n",
       "      <th>573</th>\n",
       "      <td>574.0</td>\n",
       "      <td>nnnyyyynnyyyyyyyyyyyyyyyyyyyyyyyyyyyyyyyyyyyyy...</td>\n",
       "      <td>2.071429</td>\n",
       "      <td>188.0</td>\n",
       "    </tr>\n",
       "    <tr>\n",
       "      <th>574</th>\n",
       "      <td>575.0</td>\n",
       "      <td>nnnnnnyyynnnynnnnyyyynynnnnynynnnynynnyynnnyny...</td>\n",
       "      <td>2.073529</td>\n",
       "      <td>187.0</td>\n",
       "    </tr>\n",
       "  </tbody>\n",
       "</table>\n",
       "<p>575 rows × 4 columns</p>\n",
       "</div>"
      ],
      "text/plain": [
       "     Encoded_SKU_ID                                    Daily_units_str  \\\n",
       "0               1.0  nnnnnyyyyyyyyyyyyyynynyyyyyyyyyynyyyyyyyyyyyyy...   \n",
       "1               2.0  nnnnnyyyyyyyyyyyyyyyyyyyyyyyyyyyyyyyyyyyyyyyyy...   \n",
       "2               3.0  nnnyyyynynnnnynynynnyynnyyynnyyyynnnynnnyynyny...   \n",
       "3               4.0  yyyyyyyyyyyyyyyyyyyyyyyyynyyyyyyyyyyyyynyyyyyy...   \n",
       "4               5.0  nnnnnyyyyyyyyyyyyyyyyyyyyyyyyyyyyyyyyyyyyyyyyy...   \n",
       "..              ...                                                ...   \n",
       "570           571.0  ynnynnnynynnnnnnnnnnnnnnnnnnnnnnnnnnnnnnnnnnnn...   \n",
       "571           572.0  nnnyynyyyyynyyyynnnyynyyyyyynyyyyyyyynyyynynyy...   \n",
       "572           573.0  nnnnnynynyyyyyyyyyyyyyyyyyyyyyyyyyyyyyyyyyyyyy...   \n",
       "573           574.0  nnnyyyynnyyyyyyyyyyyyyyyyyyyyyyyyyyyyyyyyyyyyy...   \n",
       "574           575.0  nnnnnnyyynnnynnnnyyyynynnnnynynnnynynnyynnnyny...   \n",
       "\n",
       "     avg_shelf_life   rank  \n",
       "0          1.416327  373.0  \n",
       "1          1.147059  497.0  \n",
       "2          1.845833  224.0  \n",
       "3          9.387755   12.0  \n",
       "4          1.113924  510.0  \n",
       "..              ...    ...  \n",
       "570        3.224490   63.0  \n",
       "571        1.147059  497.0  \n",
       "572        1.656250  286.0  \n",
       "573        2.071429  188.0  \n",
       "574        2.073529  187.0  \n",
       "\n",
       "[575 rows x 4 columns]"
      ]
     },
     "execution_count": 539,
     "metadata": {},
     "output_type": "execute_result"
    }
   ],
   "source": [
    "df_g6"
   ]
  },
  {
   "cell_type": "code",
   "execution_count": null,
   "id": "00fcc5b9",
   "metadata": {},
   "outputs": [],
   "source": []
  }
 ],
 "metadata": {
  "kernelspec": {
   "display_name": "Python 3 (ipykernel)",
   "language": "python",
   "name": "python3"
  },
  "language_info": {
   "codemirror_mode": {
    "name": "ipython",
    "version": 3
   },
   "file_extension": ".py",
   "mimetype": "text/x-python",
   "name": "python",
   "nbconvert_exporter": "python",
   "pygments_lexer": "ipython3",
   "version": "3.9.12"
  }
 },
 "nbformat": 4,
 "nbformat_minor": 5
}
